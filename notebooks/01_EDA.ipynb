{
 "cells": [
  {
   "cell_type": "markdown",
   "id": "9d14a519-a739-4c61-92c8-f7124c045dcb",
   "metadata": {},
   "source": [
    "# 00. Librerías"
   ]
  },
  {
   "cell_type": "code",
   "execution_count": 1,
   "id": "6f6a6118-c16e-4111-936b-bcd60f3148ac",
   "metadata": {},
   "outputs": [],
   "source": [
    "import pandas as pd\n",
    "import numpy as np\n",
    "import os\n",
    "\n",
    "import matplotlib.pyplot as plt\n",
    "import seaborn as sn"
   ]
  },
  {
   "cell_type": "markdown",
   "id": "10287b85-24c1-4916-87b0-794ec4d9d1d4",
   "metadata": {},
   "source": [
    "# 01. Carga de datos"
   ]
  },
  {
   "cell_type": "code",
   "execution_count": 2,
   "id": "8ba8f952-be4b-4f18-80c4-248977e28bf0",
   "metadata": {},
   "outputs": [],
   "source": [
    "base_path = 'C:\\\\Users\\\\monts\\\\Practica2\\\\project'"
   ]
  },
  {
   "cell_type": "code",
   "execution_count": 3,
   "id": "1f0e3c9f-18ad-43d0-aa96-6be9ab542a96",
   "metadata": {},
   "outputs": [],
   "source": [
    "parquet_file = os.path.join(base_path, \"data_procesada\", 'df_reducido.parquet')"
   ]
  },
  {
   "cell_type": "code",
   "execution_count": 4,
   "id": "5b9b715a-2f90-4f2e-9b91-0e1932bde167",
   "metadata": {},
   "outputs": [],
   "source": [
    "full_df = pd.read_parquet(parquet_file)"
   ]
  },
  {
   "cell_type": "code",
   "execution_count": 5,
   "id": "98d35dc6-7837-4a1c-a18b-956e339f6cbf",
   "metadata": {},
   "outputs": [
    {
     "data": {
      "text/plain": [
       "(3856577, 34)"
      ]
     },
     "execution_count": 5,
     "metadata": {},
     "output_type": "execute_result"
    }
   ],
   "source": [
    "full_df.shape"
   ]
  },
  {
   "cell_type": "markdown",
   "id": "0eedd729-52dc-4f29-886d-a7e47b41d83e",
   "metadata": {},
   "source": [
    "# 02. EDA inicial"
   ]
  },
  {
   "cell_type": "markdown",
   "id": "5a824b28-27f7-4dbb-af41-afbc5a6abd1c",
   "metadata": {
    "jp-MarkdownHeadingCollapsed": true
   },
   "source": [
    "## 02.1. Homologación del tipo de defunción"
   ]
  },
  {
   "cell_type": "code",
   "execution_count": 6,
   "id": "fb163c5f-a0f7-45ab-831f-21f5644dab44",
   "metadata": {},
   "outputs": [
    {
     "data": {
      "text/plain": [
       "Index(['ent_resid', 'mun_resid', 'tloc_resid', 'loc_resid', 'ent_ocurr',\n",
       "       'mun_ocurr', 'tloc_ocurr', 'loc_ocurr', 'causa_def', 'sexo', 'edad',\n",
       "       'dia_ocurr', 'mes_ocurr', 'anio_ocur', 'dia_nacim', 'mes_nacim',\n",
       "       'anio_nacim', 'ocupacion', 'escolarida', 'edo_civil', 'lugar_ocur',\n",
       "       'necropsia', 'asist_medi', 'sitio_ocur', 'cond_cert', 'derechohab',\n",
       "       'horas', 'minutos', 'grupo', 'area_ur', 'edad_agru', 'cond_act',\n",
       "       'tipo_defun', 'year_db'],\n",
       "      dtype='object')"
      ]
     },
     "execution_count": 6,
     "metadata": {},
     "output_type": "execute_result"
    }
   ],
   "source": [
    "full_df.columns"
   ]
  },
  {
   "cell_type": "code",
   "execution_count": 7,
   "id": "26f799b7-17e3-4924-9f19-180585509ee1",
   "metadata": {},
   "outputs": [],
   "source": [
    "cont_table = pd.crosstab(index = full_df['tipo_defun'], columns = full_df['year_db'])\n",
    "cont_table['Total'] = cont_table.sum(axis = 1)"
   ]
  },
  {
   "cell_type": "code",
   "execution_count": 8,
   "id": "fc5fab93-8745-469d-b400-35c6eab86e22",
   "metadata": {},
   "outputs": [
    {
     "data": {
      "text/html": [
       "<div>\n",
       "<style scoped>\n",
       "    .dataframe tbody tr th:only-of-type {\n",
       "        vertical-align: middle;\n",
       "    }\n",
       "\n",
       "    .dataframe tbody tr th {\n",
       "        vertical-align: top;\n",
       "    }\n",
       "\n",
       "    .dataframe thead th {\n",
       "        text-align: right;\n",
       "    }\n",
       "</style>\n",
       "<table border=\"1\" class=\"dataframe\">\n",
       "  <thead>\n",
       "    <tr style=\"text-align: right;\">\n",
       "      <th>year_db</th>\n",
       "      <th>2020</th>\n",
       "      <th>2021</th>\n",
       "      <th>2022</th>\n",
       "      <th>2023</th>\n",
       "      <th>Total</th>\n",
       "    </tr>\n",
       "    <tr>\n",
       "      <th>tipo_defun</th>\n",
       "      <th></th>\n",
       "      <th></th>\n",
       "      <th></th>\n",
       "      <th></th>\n",
       "      <th></th>\n",
       "    </tr>\n",
       "  </thead>\n",
       "  <tbody>\n",
       "    <tr>\n",
       "      <th>1</th>\n",
       "      <td>32364</td>\n",
       "      <td>34613</td>\n",
       "      <td>37457</td>\n",
       "      <td>40282</td>\n",
       "      <td>144716</td>\n",
       "    </tr>\n",
       "    <tr>\n",
       "      <th>2</th>\n",
       "      <td>36773</td>\n",
       "      <td>35700</td>\n",
       "      <td>33291</td>\n",
       "      <td>32253</td>\n",
       "      <td>138017</td>\n",
       "    </tr>\n",
       "    <tr>\n",
       "      <th>3</th>\n",
       "      <td>7896</td>\n",
       "      <td>8433</td>\n",
       "      <td>8241</td>\n",
       "      <td>9072</td>\n",
       "      <td>33642</td>\n",
       "    </tr>\n",
       "    <tr>\n",
       "      <th>4</th>\n",
       "      <td>5580</td>\n",
       "      <td>5898</td>\n",
       "      <td>762773</td>\n",
       "      <td>715751</td>\n",
       "      <td>1490002</td>\n",
       "    </tr>\n",
       "    <tr>\n",
       "      <th>5</th>\n",
       "      <td>47</td>\n",
       "      <td>54</td>\n",
       "      <td>35</td>\n",
       "      <td>29</td>\n",
       "      <td>165</td>\n",
       "    </tr>\n",
       "    <tr>\n",
       "      <th>8</th>\n",
       "      <td>1004083</td>\n",
       "      <td>1037551</td>\n",
       "      <td>0</td>\n",
       "      <td>0</td>\n",
       "      <td>2041634</td>\n",
       "    </tr>\n",
       "    <tr>\n",
       "      <th>9</th>\n",
       "      <td>0</td>\n",
       "      <td>0</td>\n",
       "      <td>5919</td>\n",
       "      <td>2482</td>\n",
       "      <td>8401</td>\n",
       "    </tr>\n",
       "  </tbody>\n",
       "</table>\n",
       "</div>"
      ],
      "text/plain": [
       "year_db        2020     2021    2022    2023    Total\n",
       "tipo_defun                                           \n",
       "1             32364    34613   37457   40282   144716\n",
       "2             36773    35700   33291   32253   138017\n",
       "3              7896     8433    8241    9072    33642\n",
       "4              5580     5898  762773  715751  1490002\n",
       "5                47       54      35      29      165\n",
       "8           1004083  1037551       0       0  2041634\n",
       "9                 0        0    5919    2482     8401"
      ]
     },
     "execution_count": 8,
     "metadata": {},
     "output_type": "execute_result"
    }
   ],
   "source": [
    "cont_table"
   ]
  },
  {
   "cell_type": "markdown",
   "id": "7985fde1-7e34-4a0f-987c-4be4f1234329",
   "metadata": {},
   "source": [
    "La clasificación de las defunciones es distinta en 2023 y 2024. En general, se tenía:\n",
    "\n",
    "1: Accidente \n",
    "\n",
    "2: Homicidio  \n",
    "\n",
    "3: Suicidio  \n",
    "\n",
    "4: Se ignora --> Enfermedad/muerte natural (en 2023)\n",
    "\n",
    "5: Operaciones legales/guerra \n",
    "\n",
    "8: No aplica para muerte natural --> --- \n",
    "\n",
    "9: --- --> Se ignora\n",
    "\n",
    "Para 2023, necesitamos recodificar la categoría 4 --> 8 y 9 --> 4\n",
    "\n",
    "Con ello se homologan las categorías en todos los años y se elimina la categoría 9"
   ]
  },
  {
   "cell_type": "code",
   "execution_count": 9,
   "id": "9e6f5381-ba79-4114-9b5d-71a5ef9f6e61",
   "metadata": {},
   "outputs": [],
   "source": [
    "# Mapeo\n",
    "mapp = {\n",
    "    4: 8,  # Muerte natural\n",
    "    9: 4   # Se ignora\n",
    "}"
   ]
  },
  {
   "cell_type": "code",
   "execution_count": 10,
   "id": "b5cf42da-32f8-4424-a338-194f3acea3c3",
   "metadata": {},
   "outputs": [],
   "source": [
    "# Recategorización para 2022\n",
    "df_2022 = full_df[full_df['year_db']==2022].copy()"
   ]
  },
  {
   "cell_type": "code",
   "execution_count": 11,
   "id": "4a750638-77e7-4979-8ae6-5d95bb60cb4a",
   "metadata": {},
   "outputs": [
    {
     "data": {
      "text/plain": [
       "tipo_defun\n",
       "4    762773\n",
       "1     37457\n",
       "2     33291\n",
       "3      8241\n",
       "9      5919\n",
       "5        35\n",
       "Name: count, dtype: int64"
      ]
     },
     "execution_count": 11,
     "metadata": {},
     "output_type": "execute_result"
    }
   ],
   "source": [
    "df_2022['tipo_defun'].value_counts() # Categorías y distribución original"
   ]
  },
  {
   "cell_type": "code",
   "execution_count": 12,
   "id": "ec380ee3-d2c8-4b39-8898-d845ec496063",
   "metadata": {},
   "outputs": [
    {
     "data": {
      "text/plain": [
       "tipo_defun\n",
       "8    762773\n",
       "1     37457\n",
       "2     33291\n",
       "3      8241\n",
       "4      5919\n",
       "5        35\n",
       "Name: count, dtype: int64"
      ]
     },
     "execution_count": 12,
     "metadata": {},
     "output_type": "execute_result"
    }
   ],
   "source": [
    "df_2022['tipo_defun'] = df_2022['tipo_defun'].replace(mapp) # Recategorización\n",
    "df_2022['tipo_defun'].value_counts() # validación"
   ]
  },
  {
   "cell_type": "code",
   "execution_count": 13,
   "id": "eb19e0db-0f57-47f6-bbf0-3c468f1e74f8",
   "metadata": {},
   "outputs": [],
   "source": [
    "# Recategorización 2023\n",
    "df_2023 = full_df[full_df['year_db']==2023].copy()"
   ]
  },
  {
   "cell_type": "code",
   "execution_count": 14,
   "id": "b0660e2b-d41e-4509-8a87-36eddc3cd06e",
   "metadata": {},
   "outputs": [
    {
     "data": {
      "text/plain": [
       "tipo_defun\n",
       "4    715751\n",
       "1     40282\n",
       "2     32253\n",
       "3      9072\n",
       "9      2482\n",
       "5        29\n",
       "Name: count, dtype: int64"
      ]
     },
     "execution_count": 14,
     "metadata": {},
     "output_type": "execute_result"
    }
   ],
   "source": [
    "df_2023['tipo_defun'].value_counts() # Categorías y distribución original"
   ]
  },
  {
   "cell_type": "code",
   "execution_count": 15,
   "id": "00d71767-8753-469a-8d9d-7cedcb2d2ba5",
   "metadata": {},
   "outputs": [
    {
     "data": {
      "text/plain": [
       "tipo_defun\n",
       "8    715751\n",
       "1     40282\n",
       "2     32253\n",
       "3      9072\n",
       "4      2482\n",
       "5        29\n",
       "Name: count, dtype: int64"
      ]
     },
     "execution_count": 15,
     "metadata": {},
     "output_type": "execute_result"
    }
   ],
   "source": [
    "df_2023['tipo_defun'] = df_2023['tipo_defun'].replace(mapp) # Recategorización\n",
    "df_2023['tipo_defun'].value_counts() # validación"
   ]
  },
  {
   "cell_type": "code",
   "execution_count": 16,
   "id": "41a6af9e-2e3d-428c-97e6-5e09c8f5b4bd",
   "metadata": {},
   "outputs": [],
   "source": [
    "# Reindexación\n",
    "indices_2022 = df_2022.index\n",
    "indices_2023 = df_2023.index"
   ]
  },
  {
   "cell_type": "code",
   "execution_count": 17,
   "id": "792ae7c7-0ea4-49c7-bf3f-72a6e5b8daaa",
   "metadata": {},
   "outputs": [],
   "source": [
    "# Reemplazamiento\n",
    "full_df.loc[indices_2022, 'tipo_defun'] = df_2022['tipo_defun']\n",
    "full_df.loc[indices_2023, 'tipo_defun'] = df_2023['tipo_defun']"
   ]
  },
  {
   "cell_type": "code",
   "execution_count": 18,
   "id": "7fe49053-bbbe-4445-b587-fd5b8e765222",
   "metadata": {},
   "outputs": [
    {
     "data": {
      "text/html": [
       "<div>\n",
       "<style scoped>\n",
       "    .dataframe tbody tr th:only-of-type {\n",
       "        vertical-align: middle;\n",
       "    }\n",
       "\n",
       "    .dataframe tbody tr th {\n",
       "        vertical-align: top;\n",
       "    }\n",
       "\n",
       "    .dataframe thead th {\n",
       "        text-align: right;\n",
       "    }\n",
       "</style>\n",
       "<table border=\"1\" class=\"dataframe\">\n",
       "  <thead>\n",
       "    <tr style=\"text-align: right;\">\n",
       "      <th>year_db</th>\n",
       "      <th>2020</th>\n",
       "      <th>2021</th>\n",
       "      <th>2022</th>\n",
       "      <th>2023</th>\n",
       "      <th>Total</th>\n",
       "    </tr>\n",
       "    <tr>\n",
       "      <th>tipo_defun</th>\n",
       "      <th></th>\n",
       "      <th></th>\n",
       "      <th></th>\n",
       "      <th></th>\n",
       "      <th></th>\n",
       "    </tr>\n",
       "  </thead>\n",
       "  <tbody>\n",
       "    <tr>\n",
       "      <th>1</th>\n",
       "      <td>32364</td>\n",
       "      <td>34613</td>\n",
       "      <td>37457</td>\n",
       "      <td>40282</td>\n",
       "      <td>144716</td>\n",
       "    </tr>\n",
       "    <tr>\n",
       "      <th>2</th>\n",
       "      <td>36773</td>\n",
       "      <td>35700</td>\n",
       "      <td>33291</td>\n",
       "      <td>32253</td>\n",
       "      <td>138017</td>\n",
       "    </tr>\n",
       "    <tr>\n",
       "      <th>3</th>\n",
       "      <td>7896</td>\n",
       "      <td>8433</td>\n",
       "      <td>8241</td>\n",
       "      <td>9072</td>\n",
       "      <td>33642</td>\n",
       "    </tr>\n",
       "    <tr>\n",
       "      <th>4</th>\n",
       "      <td>5580</td>\n",
       "      <td>5898</td>\n",
       "      <td>5919</td>\n",
       "      <td>2482</td>\n",
       "      <td>19879</td>\n",
       "    </tr>\n",
       "    <tr>\n",
       "      <th>5</th>\n",
       "      <td>47</td>\n",
       "      <td>54</td>\n",
       "      <td>35</td>\n",
       "      <td>29</td>\n",
       "      <td>165</td>\n",
       "    </tr>\n",
       "    <tr>\n",
       "      <th>8</th>\n",
       "      <td>1004083</td>\n",
       "      <td>1037551</td>\n",
       "      <td>762773</td>\n",
       "      <td>715751</td>\n",
       "      <td>3520158</td>\n",
       "    </tr>\n",
       "  </tbody>\n",
       "</table>\n",
       "</div>"
      ],
      "text/plain": [
       "year_db        2020     2021    2022    2023    Total\n",
       "tipo_defun                                           \n",
       "1             32364    34613   37457   40282   144716\n",
       "2             36773    35700   33291   32253   138017\n",
       "3              7896     8433    8241    9072    33642\n",
       "4              5580     5898    5919    2482    19879\n",
       "5                47       54      35      29      165\n",
       "8           1004083  1037551  762773  715751  3520158"
      ]
     },
     "execution_count": 18,
     "metadata": {},
     "output_type": "execute_result"
    }
   ],
   "source": [
    "# Tabla de contingencia de validación\n",
    "cont_table = pd.crosstab(index = full_df['tipo_defun'], columns = full_df['year_db'])\n",
    "cont_table['Total'] = cont_table.sum(axis = 1)\n",
    "cont_table"
   ]
  },
  {
   "cell_type": "code",
   "execution_count": 19,
   "id": "0985206f-d27c-46ab-bb74-52c972f6a5fe",
   "metadata": {},
   "outputs": [],
   "source": [
    "# Distribución del tipo de defunción por año\n",
    "percent_table = pd.crosstab(\n",
    "    index = full_df['tipo_defun'],\n",
    "    columns = full_df['year_db'],\n",
    "    normalize = 'columns'  \n",
    ") * 100 "
   ]
  },
  {
   "cell_type": "code",
   "execution_count": 20,
   "id": "57119e59-3326-4edc-8fa6-72655a4d8622",
   "metadata": {},
   "outputs": [
    {
     "data": {
      "text/html": [
       "<div>\n",
       "<style scoped>\n",
       "    .dataframe tbody tr th:only-of-type {\n",
       "        vertical-align: middle;\n",
       "    }\n",
       "\n",
       "    .dataframe tbody tr th {\n",
       "        vertical-align: top;\n",
       "    }\n",
       "\n",
       "    .dataframe thead th {\n",
       "        text-align: right;\n",
       "    }\n",
       "</style>\n",
       "<table border=\"1\" class=\"dataframe\">\n",
       "  <thead>\n",
       "    <tr style=\"text-align: right;\">\n",
       "      <th>year_db</th>\n",
       "      <th>2020</th>\n",
       "      <th>2021</th>\n",
       "      <th>2022</th>\n",
       "      <th>2023</th>\n",
       "    </tr>\n",
       "    <tr>\n",
       "      <th>tipo_defun</th>\n",
       "      <th></th>\n",
       "      <th></th>\n",
       "      <th></th>\n",
       "      <th></th>\n",
       "    </tr>\n",
       "  </thead>\n",
       "  <tbody>\n",
       "    <tr>\n",
       "      <th>1</th>\n",
       "      <td>2.98</td>\n",
       "      <td>3.08</td>\n",
       "      <td>4.42</td>\n",
       "      <td>5.04</td>\n",
       "    </tr>\n",
       "    <tr>\n",
       "      <th>2</th>\n",
       "      <td>3.38</td>\n",
       "      <td>3.18</td>\n",
       "      <td>3.93</td>\n",
       "      <td>4.03</td>\n",
       "    </tr>\n",
       "    <tr>\n",
       "      <th>3</th>\n",
       "      <td>0.73</td>\n",
       "      <td>0.75</td>\n",
       "      <td>0.97</td>\n",
       "      <td>1.13</td>\n",
       "    </tr>\n",
       "    <tr>\n",
       "      <th>4</th>\n",
       "      <td>0.51</td>\n",
       "      <td>0.53</td>\n",
       "      <td>0.70</td>\n",
       "      <td>0.31</td>\n",
       "    </tr>\n",
       "    <tr>\n",
       "      <th>5</th>\n",
       "      <td>0.00</td>\n",
       "      <td>0.00</td>\n",
       "      <td>0.00</td>\n",
       "      <td>0.00</td>\n",
       "    </tr>\n",
       "    <tr>\n",
       "      <th>8</th>\n",
       "      <td>92.39</td>\n",
       "      <td>92.45</td>\n",
       "      <td>89.98</td>\n",
       "      <td>89.48</td>\n",
       "    </tr>\n",
       "  </tbody>\n",
       "</table>\n",
       "</div>"
      ],
      "text/plain": [
       "year_db      2020   2021   2022   2023\n",
       "tipo_defun                            \n",
       "1            2.98   3.08   4.42   5.04\n",
       "2            3.38   3.18   3.93   4.03\n",
       "3            0.73   0.75   0.97   1.13\n",
       "4            0.51   0.53   0.70   0.31\n",
       "5            0.00   0.00   0.00   0.00\n",
       "8           92.39  92.45  89.98  89.48"
      ]
     },
     "execution_count": 20,
     "metadata": {},
     "output_type": "execute_result"
    }
   ],
   "source": [
    "percent_table.round(2)"
   ]
  },
  {
   "cell_type": "code",
   "execution_count": 21,
   "id": "fcddcde3-bf65-40d5-bf48-611166c5b0d1",
   "metadata": {},
   "outputs": [
    {
     "data": {
      "image/png": "[encoded data removed]",
      "text/plain": [
       "<Figure size 800x400 with 1 Axes>"
      ]
     },
     "metadata": {},
     "output_type": "display_data"
    }
   ],
   "source": [
    "# Visualización \n",
    "aux_plot = percent_table.transpose()\n",
    "\n",
    "dicc_legend = {\n",
    "    1: 'Accidente',\n",
    "    2: 'Homicidio',\n",
    "    3: 'Suicidio',\n",
    "    4: 'Se ignora',\n",
    "    5: 'Guerra',\n",
    "    8: 'Natural'\n",
    "}\n",
    "\n",
    "col_names = [dicc_legend.get(col, col) for col in aux_plot.columns]\n",
    "aux_plot.columns = col_names\n",
    "\n",
    "fig, ax = plt.subplots(figsize=(8, 4))\n",
    "\n",
    "num_clases = len(aux_plot.columns)\n",
    "colores = plt.colormaps['twilight'](np.linspace(0, 1, num_clases))\n",
    "years = aux_plot.index.astype(int) \n",
    "\n",
    "ax.set_xticks(years)\n",
    "\n",
    "aux_plot.plot.area(\n",
    "    ax = ax,\n",
    "    color = colores,\n",
    "    alpha = 0.8\n",
    ")\n",
    "\n",
    "plt.title('Distribución de defunciones', fontsize=14)\n",
    "plt.xlabel('Año de la Defunción', fontsize=12)\n",
    "plt.ylabel('Porcentaje (%)', fontsize=12)\n",
    "\n",
    "plt.yticks(np.arange(0, 101, 10)) # Asegura que el eje Y vaya de 0 a 100\n",
    "\n",
    "plt.legend(\n",
    "    title='Tipo de Defunción', \n",
    "    bbox_to_anchor=(1.05, 1), # Mueve la leyenda fuera del gráfico\n",
    "    loc='upper left'\n",
    ")\n",
    "plt.grid(axis='y', linestyle='--', alpha=0.7)\n",
    "plt.tight_layout()\n",
    "plt.show()"
   ]
  },
  {
   "cell_type": "markdown",
   "id": "12ecc034-884b-4071-924b-f84abf71339a",
   "metadata": {
    "jp-MarkdownHeadingCollapsed": true
   },
   "source": [
    "## 02.2. Validación de nulos"
   ]
  },
  {
   "cell_type": "code",
   "execution_count": 22,
   "id": "a868a405-4b48-4fd7-bc60-1b0f06660dfc",
   "metadata": {},
   "outputs": [
    {
     "data": {
      "text/plain": [
       "Index(['ent_resid', 'mun_resid', 'tloc_resid', 'loc_resid', 'ent_ocurr',\n",
       "       'mun_ocurr', 'tloc_ocurr', 'loc_ocurr', 'causa_def', 'sexo', 'edad',\n",
       "       'dia_ocurr', 'mes_ocurr', 'anio_ocur', 'dia_nacim', 'mes_nacim',\n",
       "       'anio_nacim', 'ocupacion', 'escolarida', 'edo_civil', 'lugar_ocur',\n",
       "       'necropsia', 'asist_medi', 'sitio_ocur', 'cond_cert', 'derechohab',\n",
       "       'horas', 'minutos', 'grupo', 'area_ur', 'edad_agru', 'cond_act',\n",
       "       'tipo_defun', 'year_db'],\n",
       "      dtype='object')"
      ]
     },
     "execution_count": 22,
     "metadata": {},
     "output_type": "execute_result"
    }
   ],
   "source": [
    "full_df.columns"
   ]
  },
  {
   "cell_type": "code",
   "execution_count": 23,
   "id": "210fe4ed-6c02-40f4-8062-13ad596a5749",
   "metadata": {},
   "outputs": [
    {
     "data": {
      "text/plain": [
       "np.int64(0)"
      ]
     },
     "execution_count": 23,
     "metadata": {},
     "output_type": "execute_result"
    }
   ],
   "source": [
    "# Conteo de nulos por columna\n",
    "count_null = full_df.isnull().sum()\n",
    "count_null.sum() # sin valores nulos en el df"
   ]
  },
  {
   "cell_type": "markdown",
   "id": "93a98843-d017-4352-b910-f041eba22fe3",
   "metadata": {
    "jp-MarkdownHeadingCollapsed": true
   },
   "source": [
    "## 02.3. Cálculo de edad"
   ]
  },
  {
   "cell_type": "code",
   "execution_count": 24,
   "id": "953c48d8-eab4-434b-bf54-69e0484828c8",
   "metadata": {
    "scrolled": true
   },
   "outputs": [
    {
     "data": {
      "text/plain": [
       "[np.int64(1001),\n",
       " np.int64(1002),\n",
       " np.int64(1003),\n",
       " np.int64(1004),\n",
       " np.int64(1005),\n",
       " np.int64(1006),\n",
       " np.int64(1007),\n",
       " np.int64(1008),\n",
       " np.int64(1009),\n",
       " np.int64(1010),\n",
       " np.int64(1011),\n",
       " np.int64(1012),\n",
       " np.int64(1013),\n",
       " np.int64(1014),\n",
       " np.int64(1015),\n",
       " np.int64(1016),\n",
       " np.int64(1017),\n",
       " np.int64(1018),\n",
       " np.int64(1019),\n",
       " np.int64(1020),\n",
       " np.int64(1021),\n",
       " np.int64(1022),\n",
       " np.int64(1023),\n",
       " np.int64(1097),\n",
       " np.int64(1098),\n",
       " np.int64(2001),\n",
       " np.int64(2002),\n",
       " np.int64(2003),\n",
       " np.int64(2004),\n",
       " np.int64(2005),\n",
       " np.int64(2006),\n",
       " np.int64(2007),\n",
       " np.int64(2008),\n",
       " np.int64(2009),\n",
       " np.int64(2010),\n",
       " np.int64(2011),\n",
       " np.int64(2012),\n",
       " np.int64(2013),\n",
       " np.int64(2014),\n",
       " np.int64(2015),\n",
       " np.int64(2016),\n",
       " np.int64(2017),\n",
       " np.int64(2018),\n",
       " np.int64(2019),\n",
       " np.int64(2020),\n",
       " np.int64(2021),\n",
       " np.int64(2022),\n",
       " np.int64(2023),\n",
       " np.int64(2024),\n",
       " np.int64(2025),\n",
       " np.int64(2026),\n",
       " np.int64(2027),\n",
       " np.int64(2028),\n",
       " np.int64(2029),\n",
       " np.int64(2098),\n",
       " np.int64(3001),\n",
       " np.int64(3002),\n",
       " np.int64(3003),\n",
       " np.int64(3004),\n",
       " np.int64(3005),\n",
       " np.int64(3006),\n",
       " np.int64(3007),\n",
       " np.int64(3008),\n",
       " np.int64(3009),\n",
       " np.int64(3010),\n",
       " np.int64(3011),\n",
       " np.int64(3098),\n",
       " np.int64(4001),\n",
       " np.int64(4002),\n",
       " np.int64(4003),\n",
       " np.int64(4004),\n",
       " np.int64(4005),\n",
       " np.int64(4006),\n",
       " np.int64(4007),\n",
       " np.int64(4008),\n",
       " np.int64(4009),\n",
       " np.int64(4010),\n",
       " np.int64(4011),\n",
       " np.int64(4012),\n",
       " np.int64(4013),\n",
       " np.int64(4014),\n",
       " np.int64(4015),\n",
       " np.int64(4016),\n",
       " np.int64(4017),\n",
       " np.int64(4018),\n",
       " np.int64(4019),\n",
       " np.int64(4020),\n",
       " np.int64(4021),\n",
       " np.int64(4022),\n",
       " np.int64(4023),\n",
       " np.int64(4024),\n",
       " np.int64(4025),\n",
       " np.int64(4026),\n",
       " np.int64(4027),\n",
       " np.int64(4028),\n",
       " np.int64(4029),\n",
       " np.int64(4030),\n",
       " np.int64(4031),\n",
       " np.int64(4032),\n",
       " np.int64(4033),\n",
       " np.int64(4034),\n",
       " np.int64(4035),\n",
       " np.int64(4036),\n",
       " np.int64(4037),\n",
       " np.int64(4038),\n",
       " np.int64(4039),\n",
       " np.int64(4040),\n",
       " np.int64(4041),\n",
       " np.int64(4042),\n",
       " np.int64(4043),\n",
       " np.int64(4044),\n",
       " np.int64(4045),\n",
       " np.int64(4046),\n",
       " np.int64(4047),\n",
       " np.int64(4048),\n",
       " np.int64(4049),\n",
       " np.int64(4050),\n",
       " np.int64(4051),\n",
       " np.int64(4052),\n",
       " np.int64(4053),\n",
       " np.int64(4054),\n",
       " np.int64(4055),\n",
       " np.int64(4056),\n",
       " np.int64(4057),\n",
       " np.int64(4058),\n",
       " np.int64(4059),\n",
       " np.int64(4060),\n",
       " np.int64(4061),\n",
       " np.int64(4062),\n",
       " np.int64(4063),\n",
       " np.int64(4064),\n",
       " np.int64(4065),\n",
       " np.int64(4066),\n",
       " np.int64(4067),\n",
       " np.int64(4068),\n",
       " np.int64(4069),\n",
       " np.int64(4070),\n",
       " np.int64(4071),\n",
       " np.int64(4072),\n",
       " np.int64(4073),\n",
       " np.int64(4074),\n",
       " np.int64(4075),\n",
       " np.int64(4076),\n",
       " np.int64(4077),\n",
       " np.int64(4078),\n",
       " np.int64(4079),\n",
       " np.int64(4080),\n",
       " np.int64(4081),\n",
       " np.int64(4082),\n",
       " np.int64(4083),\n",
       " np.int64(4084),\n",
       " np.int64(4085),\n",
       " np.int64(4086),\n",
       " np.int64(4087),\n",
       " np.int64(4088),\n",
       " np.int64(4089),\n",
       " np.int64(4090),\n",
       " np.int64(4091),\n",
       " np.int64(4092),\n",
       " np.int64(4093),\n",
       " np.int64(4094),\n",
       " np.int64(4095),\n",
       " np.int64(4096),\n",
       " np.int64(4097),\n",
       " np.int64(4098),\n",
       " np.int64(4099),\n",
       " np.int64(4100),\n",
       " np.int64(4101),\n",
       " np.int64(4102),\n",
       " np.int64(4103),\n",
       " np.int64(4104),\n",
       " np.int64(4105),\n",
       " np.int64(4106),\n",
       " np.int64(4107),\n",
       " np.int64(4108),\n",
       " np.int64(4109),\n",
       " np.int64(4110),\n",
       " np.int64(4111),\n",
       " np.int64(4112),\n",
       " np.int64(4113),\n",
       " np.int64(4114),\n",
       " np.int64(4115),\n",
       " np.int64(4116),\n",
       " np.int64(4117),\n",
       " np.int64(4118),\n",
       " np.int64(4119),\n",
       " np.int64(4120),\n",
       " np.int64(4998)]"
      ]
     },
     "execution_count": 24,
     "metadata": {},
     "output_type": "execute_result"
    }
   ],
   "source": [
    "# Revisión de la variable original \"edad\"\n",
    "sorted(full_df['edad'].unique())"
   ]
  },
  {
   "cell_type": "markdown",
   "id": "f9c0585c-9b8d-447d-a231-e3ec99a8a371",
   "metadata": {},
   "source": [
    "Descripción de valores:\n",
    "\n",
    "1001-1023: horas\n",
    "\n",
    "1097: minutos\n",
    "\n",
    "1098: horas no especificadas\n",
    "\n",
    "2001-2029: días\n",
    "\n",
    "2098: días no especificados\n",
    "\n",
    "3001-3011: meses\n",
    "\n",
    "3098: meses no especificados\n",
    "\n",
    "4001-4120: años\n",
    "\n",
    "4998: años no espeecificados"
   ]
  },
  {
   "cell_type": "code",
   "execution_count": 25,
   "id": "6168eddf-87f2-4ead-9df0-d8b85ba403ba",
   "metadata": {},
   "outputs": [],
   "source": [
    "# Reclasifiación\n",
    "full_df['age'] = np.nan\n",
    "\n",
    "# Las edades medidas en horas, días y meses se reclasificarán con edad 0 años\n",
    "cond_menor = (full_df['edad'] >= 1001) & (full_df['edad'] <= 3999)\n",
    "full_df.loc[cond_menor, 'age'] = 0\n",
    "\n",
    "# Recodificación para edades de 1 años a 120 años (el estándar de edades)\n",
    "cond_años = (full_df['edad'] >= 4001) & (full_df['edad'] <= 4120)\n",
    "full_df.loc[cond_años, 'age'] = full_df['edad'] - 4000\n",
    "\n",
    "# Los años no especificados se convierten en NaN\n",
    "full_df.loc[full_df['edad'] == 4998, 'age'] = np.nan"
   ]
  },
  {
   "cell_type": "code",
   "execution_count": 26,
   "id": "9f727a3c-68dd-45d8-a9e5-4c45e40347d0",
   "metadata": {},
   "outputs": [
    {
     "data": {
      "text/plain": [
       "121"
      ]
     },
     "execution_count": 26,
     "metadata": {},
     "output_type": "execute_result"
    }
   ],
   "source": [
    "full_df['age'].nunique() # edades únicas"
   ]
  },
  {
   "cell_type": "code",
   "execution_count": 27,
   "id": "b9d0aebb-17ab-4377-8b0f-dfdb1c08cad9",
   "metadata": {},
   "outputs": [
    {
     "data": {
      "text/plain": [
       "np.int64(20875)"
      ]
     },
     "execution_count": 27,
     "metadata": {},
     "output_type": "execute_result"
    }
   ],
   "source": [
    "full_df['age'].isnull().sum() # nulos actuales"
   ]
  },
  {
   "cell_type": "code",
   "execution_count": 28,
   "id": "ef6467cd-839c-4f7d-97a2-934378705c60",
   "metadata": {},
   "outputs": [],
   "source": [
    "# Cálculo de una nueva variable de edad a partir de las variables de nacimiento y ocurrencia de la defunción\n",
    "var_dates = ['anio_nacim', 'mes_nacim', 'dia_nacim', 'anio_ocur', 'mes_ocurr', 'dia_ocurr']\n",
    "min_dates = full_df[var_dates].min()\n",
    "max_dates = full_df[var_dates].max()"
   ]
  },
  {
   "cell_type": "code",
   "execution_count": 29,
   "id": "079d17a4-1b2f-415f-96af-ac6f1d6c263d",
   "metadata": {},
   "outputs": [
    {
     "data": {
      "text/html": [
       "<div>\n",
       "<style scoped>\n",
       "    .dataframe tbody tr th:only-of-type {\n",
       "        vertical-align: middle;\n",
       "    }\n",
       "\n",
       "    .dataframe tbody tr th {\n",
       "        vertical-align: top;\n",
       "    }\n",
       "\n",
       "    .dataframe thead th {\n",
       "        text-align: right;\n",
       "    }\n",
       "</style>\n",
       "<table border=\"1\" class=\"dataframe\">\n",
       "  <thead>\n",
       "    <tr style=\"text-align: right;\">\n",
       "      <th></th>\n",
       "      <th>Minimo</th>\n",
       "      <th>Maximo</th>\n",
       "    </tr>\n",
       "  </thead>\n",
       "  <tbody>\n",
       "    <tr>\n",
       "      <th>anio_nacim</th>\n",
       "      <td>1897</td>\n",
       "      <td>9999</td>\n",
       "    </tr>\n",
       "    <tr>\n",
       "      <th>mes_nacim</th>\n",
       "      <td>1</td>\n",
       "      <td>99</td>\n",
       "    </tr>\n",
       "    <tr>\n",
       "      <th>dia_nacim</th>\n",
       "      <td>1</td>\n",
       "      <td>99</td>\n",
       "    </tr>\n",
       "    <tr>\n",
       "      <th>anio_ocur</th>\n",
       "      <td>1900</td>\n",
       "      <td>9999</td>\n",
       "    </tr>\n",
       "    <tr>\n",
       "      <th>mes_ocurr</th>\n",
       "      <td>1</td>\n",
       "      <td>99</td>\n",
       "    </tr>\n",
       "    <tr>\n",
       "      <th>dia_ocurr</th>\n",
       "      <td>1</td>\n",
       "      <td>99</td>\n",
       "    </tr>\n",
       "  </tbody>\n",
       "</table>\n",
       "</div>"
      ],
      "text/plain": [
       "            Minimo  Maximo\n",
       "anio_nacim    1897    9999\n",
       "mes_nacim        1      99\n",
       "dia_nacim        1      99\n",
       "anio_ocur     1900    9999\n",
       "mes_ocurr        1      99\n",
       "dia_ocurr        1      99"
      ]
     },
     "execution_count": 29,
     "metadata": {},
     "output_type": "execute_result"
    }
   ],
   "source": [
    "resume_dates = pd.DataFrame({\n",
    "    'Minimo': min_dates,\n",
    "    'Maximo': max_dates\n",
    "})\n",
    "\n",
    "resume_dates"
   ]
  },
  {
   "cell_type": "code",
   "execution_count": 30,
   "id": "8d2fc7ca-57ff-4c5c-83fe-8f441d58b356",
   "metadata": {},
   "outputs": [],
   "source": [
    "# Revisión de fechas 9999/99\n",
    "cod_anomalos = {\n",
    "    'anio_nacim': 9999, 'anio_ocur': 9999,\n",
    "    'mes_nacim': 99, 'mes_ocurr': 99,\n",
    "    'dia_nacim': 99, 'dia_ocurr': 99\n",
    "}\n",
    "\n",
    "count_anomalos = {}\n",
    "for var in var_dates:\n",
    "    codigo = cod_anomalos[var]\n",
    "    count_anomalos[var] = full_df[full_df[var] == codigo].shape[0]\n",
    "\n",
    "count_serie = pd.Series(count_anomalos)\n",
    "\n",
    "count_nacim = count_serie[['anio_nacim', 'mes_nacim', 'dia_nacim']]\n",
    "count_ocurr = count_serie[['anio_ocur', 'mes_ocurr', 'dia_ocurr']]"
   ]
  },
  {
   "cell_type": "code",
   "execution_count": 31,
   "id": "614ba645-b9d9-4ef2-8d5e-0d8b55d55aa5",
   "metadata": {},
   "outputs": [
    {
     "name": "stdout",
     "output_type": "stream",
     "text": [
      "anio_nacim    45987\n",
      "mes_nacim     48699\n",
      "dia_nacim     48839\n",
      "anio_ocur      1613\n",
      "mes_ocurr      3012\n",
      "dia_ocurr      4203\n",
      "dtype: int64\n"
     ]
    }
   ],
   "source": [
    "print(count_serie)"
   ]
  },
  {
   "cell_type": "code",
   "execution_count": 32,
   "id": "4544413f-3e4c-4bed-83fb-0bf40a1faf56",
   "metadata": {},
   "outputs": [
    {
     "data": {
      "text/plain": [
       "False"
      ]
     },
     "execution_count": 32,
     "metadata": {},
     "output_type": "execute_result"
    }
   ],
   "source": [
    "count_ocurr.nunique() == 1"
   ]
  },
  {
   "cell_type": "code",
   "execution_count": 33,
   "id": "0fbe306b-3303-410d-8310-8d114ca7d922",
   "metadata": {
    "scrolled": true
   },
   "outputs": [
    {
     "data": {
      "text/plain": [
       "[np.int64(1897),\n",
       " np.int64(1900),\n",
       " np.int64(1901),\n",
       " np.int64(1902),\n",
       " np.int64(1903),\n",
       " np.int64(1904),\n",
       " np.int64(1905),\n",
       " np.int64(1906),\n",
       " np.int64(1907),\n",
       " np.int64(1908),\n",
       " np.int64(1909),\n",
       " np.int64(1910),\n",
       " np.int64(1911),\n",
       " np.int64(1912),\n",
       " np.int64(1913),\n",
       " np.int64(1914),\n",
       " np.int64(1915),\n",
       " np.int64(1916),\n",
       " np.int64(1917),\n",
       " np.int64(1918),\n",
       " np.int64(1919),\n",
       " np.int64(1920),\n",
       " np.int64(1921),\n",
       " np.int64(1922),\n",
       " np.int64(1923),\n",
       " np.int64(1924),\n",
       " np.int64(1925),\n",
       " np.int64(1926),\n",
       " np.int64(1927),\n",
       " np.int64(1928),\n",
       " np.int64(1929),\n",
       " np.int64(1930),\n",
       " np.int64(1931),\n",
       " np.int64(1932),\n",
       " np.int64(1933),\n",
       " np.int64(1934),\n",
       " np.int64(1935),\n",
       " np.int64(1936),\n",
       " np.int64(1937),\n",
       " np.int64(1938),\n",
       " np.int64(1939),\n",
       " np.int64(1940),\n",
       " np.int64(1941),\n",
       " np.int64(1942),\n",
       " np.int64(1943),\n",
       " np.int64(1944),\n",
       " np.int64(1945),\n",
       " np.int64(1946),\n",
       " np.int64(1947),\n",
       " np.int64(1948),\n",
       " np.int64(1949),\n",
       " np.int64(1950),\n",
       " np.int64(1951),\n",
       " np.int64(1952),\n",
       " np.int64(1953),\n",
       " np.int64(1954),\n",
       " np.int64(1955),\n",
       " np.int64(1956),\n",
       " np.int64(1957),\n",
       " np.int64(1958),\n",
       " np.int64(1959),\n",
       " np.int64(1960),\n",
       " np.int64(1961),\n",
       " np.int64(1962),\n",
       " np.int64(1963),\n",
       " np.int64(1964),\n",
       " np.int64(1965),\n",
       " np.int64(1966),\n",
       " np.int64(1967),\n",
       " np.int64(1968),\n",
       " np.int64(1969),\n",
       " np.int64(1970),\n",
       " np.int64(1971),\n",
       " np.int64(1972),\n",
       " np.int64(1973),\n",
       " np.int64(1974),\n",
       " np.int64(1975),\n",
       " np.int64(1976),\n",
       " np.int64(1977),\n",
       " np.int64(1978),\n",
       " np.int64(1979),\n",
       " np.int64(1980),\n",
       " np.int64(1981),\n",
       " np.int64(1982),\n",
       " np.int64(1983),\n",
       " np.int64(1984),\n",
       " np.int64(1985),\n",
       " np.int64(1986),\n",
       " np.int64(1987),\n",
       " np.int64(1988),\n",
       " np.int64(1989),\n",
       " np.int64(1990),\n",
       " np.int64(1991),\n",
       " np.int64(1992),\n",
       " np.int64(1993),\n",
       " np.int64(1994),\n",
       " np.int64(1995),\n",
       " np.int64(1996),\n",
       " np.int64(1997),\n",
       " np.int64(1998),\n",
       " np.int64(1999),\n",
       " np.int64(2000),\n",
       " np.int64(2001),\n",
       " np.int64(2002),\n",
       " np.int64(2003),\n",
       " np.int64(2004),\n",
       " np.int64(2005),\n",
       " np.int64(2006),\n",
       " np.int64(2007),\n",
       " np.int64(2008),\n",
       " np.int64(2009),\n",
       " np.int64(2010),\n",
       " np.int64(2011),\n",
       " np.int64(2012),\n",
       " np.int64(2013),\n",
       " np.int64(2014),\n",
       " np.int64(2015),\n",
       " np.int64(2016),\n",
       " np.int64(2017),\n",
       " np.int64(2018),\n",
       " np.int64(2019),\n",
       " np.int64(2020),\n",
       " np.int64(2021),\n",
       " np.int64(2022),\n",
       " np.int64(2023),\n",
       " np.int64(9999)]"
      ]
     },
     "execution_count": 33,
     "metadata": {},
     "output_type": "execute_result"
    }
   ],
   "source": [
    "sorted(full_df['anio_nacim'].unique())"
   ]
  },
  {
   "cell_type": "code",
   "execution_count": 34,
   "id": "faaaba3a-7111-443b-b28e-92973aa32aa3",
   "metadata": {},
   "outputs": [],
   "source": [
    "# Fecha de nacimiento\n",
    "full_df['fecha_nacim'] = pd.to_datetime(\n",
    "    full_df[['anio_nacim', 'mes_nacim', 'dia_nacim']].rename(columns = {\n",
    "        'anio_nacim': 'year', \n",
    "        'mes_nacim': 'month', \n",
    "        'dia_nacim': 'day'\n",
    "    }), \n",
    "    errors='coerce'\n",
    ")"
   ]
  },
  {
   "cell_type": "code",
   "execution_count": 35,
   "id": "dc5be837-6486-4ff6-b6ea-fa48867cd9a3",
   "metadata": {},
   "outputs": [
    {
     "data": {
      "text/plain": [
       "np.int64(48839)"
      ]
     },
     "execution_count": 35,
     "metadata": {},
     "output_type": "execute_result"
    }
   ],
   "source": [
    "full_df['fecha_nacim'].isnull().sum()"
   ]
  },
  {
   "cell_type": "code",
   "execution_count": 36,
   "id": "9300fa7f-0770-4afe-a759-8bf77142f114",
   "metadata": {},
   "outputs": [
    {
     "data": {
      "text/plain": [
       "dtype('<M8[ns]')"
      ]
     },
     "execution_count": 36,
     "metadata": {},
     "output_type": "execute_result"
    }
   ],
   "source": [
    "full_df['fecha_nacim'].dtype"
   ]
  },
  {
   "cell_type": "code",
   "execution_count": 37,
   "id": "f3c17f60-5da5-4497-a373-194d44f6da3e",
   "metadata": {},
   "outputs": [],
   "source": [
    "# Fecha de ocurrencia de la defunción\n",
    "full_df['fecha_ocurr'] = pd.to_datetime(\n",
    "    full_df[['anio_ocur', 'mes_ocurr', 'dia_ocurr']].rename(columns = {\n",
    "        'anio_ocur': 'year', \n",
    "        'mes_ocurr': 'month', \n",
    "        'dia_ocurr': 'day'\n",
    "    }), \n",
    "    errors='coerce'\n",
    ")"
   ]
  },
  {
   "cell_type": "code",
   "execution_count": 38,
   "id": "bf98be6b-7345-4ed1-a760-278ffcbff1f1",
   "metadata": {},
   "outputs": [
    {
     "data": {
      "text/plain": [
       "np.int64(4203)"
      ]
     },
     "execution_count": 38,
     "metadata": {},
     "output_type": "execute_result"
    }
   ],
   "source": [
    "full_df['fecha_ocurr'].isnull().sum()"
   ]
  },
  {
   "cell_type": "code",
   "execution_count": 39,
   "id": "fb91acdf-e878-4262-8503-46c87b40acdc",
   "metadata": {},
   "outputs": [
    {
     "data": {
      "text/plain": [
       "dtype('<M8[ns]')"
      ]
     },
     "execution_count": 39,
     "metadata": {},
     "output_type": "execute_result"
    }
   ],
   "source": [
    "full_df['fecha_ocurr'].dtype"
   ]
  },
  {
   "cell_type": "code",
   "execution_count": 40,
   "id": "7a19d892-e494-48ef-967c-8f6ad264d4a6",
   "metadata": {},
   "outputs": [],
   "source": [
    "# Días por año\n",
    "dias_anio = 365.25"
   ]
  },
  {
   "cell_type": "code",
   "execution_count": 41,
   "id": "aa57e9d6-cddb-493f-befa-d4744180fb31",
   "metadata": {},
   "outputs": [],
   "source": [
    "dif_dias = (full_df['fecha_ocurr'] - full_df['fecha_nacim']) / np.timedelta64(1, 'D')"
   ]
  },
  {
   "cell_type": "code",
   "execution_count": 42,
   "id": "b815fa6c-58eb-4654-a6a9-ef305fa8b136",
   "metadata": {},
   "outputs": [],
   "source": [
    "full_df['age_manual'] = np.floor(dif_dias / dias_anio)"
   ]
  },
  {
   "cell_type": "code",
   "execution_count": 43,
   "id": "ed0e6352-a4b4-4a96-a919-6a33fbdd14cf",
   "metadata": {},
   "outputs": [
    {
     "data": {
      "text/plain": [
       "np.int64(50257)"
      ]
     },
     "execution_count": 43,
     "metadata": {},
     "output_type": "execute_result"
    }
   ],
   "source": [
    "full_df['age_manual'].isnull().sum()"
   ]
  },
  {
   "cell_type": "code",
   "execution_count": 44,
   "id": "63c87b8c-21e7-41c1-b5e9-3d7584e9a1b5",
   "metadata": {},
   "outputs": [],
   "source": [
    "# Imputación con la edad recodificada\n",
    "full_df['age_final'] = full_df['age_manual'].fillna(full_df['age'])\n",
    "\n",
    "full_df['age_final'] = full_df['age_final'].astype('Int64')"
   ]
  },
  {
   "cell_type": "code",
   "execution_count": 45,
   "id": "12e4070f-1096-4ac5-8115-a63034d645f8",
   "metadata": {},
   "outputs": [
    {
     "data": {
      "text/plain": [
       "np.int64(20856)"
      ]
     },
     "execution_count": 45,
     "metadata": {},
     "output_type": "execute_result"
    }
   ],
   "source": [
    "full_df['age_final'].isnull().sum()"
   ]
  },
  {
   "cell_type": "code",
   "execution_count": 46,
   "id": "7e82a1e3-97b9-4b83-b68b-5af55202c35f",
   "metadata": {},
   "outputs": [
    {
     "data": {
      "text/plain": [
       "(3856577, 39)"
      ]
     },
     "execution_count": 46,
     "metadata": {},
     "output_type": "execute_result"
    }
   ],
   "source": [
    "full_df.shape"
   ]
  },
  {
   "cell_type": "markdown",
   "id": "57828d45-e08a-413c-acda-e8e39a5da897",
   "metadata": {},
   "source": [
    "full_df.columns"
   ]
  },
  {
   "cell_type": "markdown",
   "id": "3d74c1bb-15b4-4cda-899e-55b93175fc52",
   "metadata": {
    "jp-MarkdownHeadingCollapsed": true
   },
   "source": [
    "## 02.4. Salida"
   ]
  },
  {
   "cell_type": "code",
   "execution_count": 47,
   "id": "565be358-bc28-4a9f-8d9b-d1880dcb0443",
   "metadata": {},
   "outputs": [],
   "source": [
    "file_name = 'df_limpio.parquet'\n",
    "output_path = os.path.join(base_path, 'data_procesada')\n",
    "parquet_file = os.path.join(output_path, file_name)\n",
    "full_df.to_parquet(parquet_file, index=False)"
   ]
  },
  {
   "cell_type": "markdown",
   "id": "59675e21-8887-47e1-8911-3854c034b5fa",
   "metadata": {},
   "source": [
    "# 03. EDA | Ingeniería de variables sobre suicidios"
   ]
  },
  {
   "cell_type": "markdown",
   "id": "e3a13065-ff90-4479-9ebf-d6896fcb9367",
   "metadata": {
    "jp-MarkdownHeadingCollapsed": true
   },
   "source": [
    "## 03.1. Revisión de la edad"
   ]
  },
  {
   "cell_type": "code",
   "execution_count": 48,
   "id": "5deeef55-ac30-4d2b-a03b-7aabc2909cdf",
   "metadata": {},
   "outputs": [],
   "source": [
    "df_suicide = full_df[full_df['tipo_defun'] == 3].copy().reset_index(drop = True)"
   ]
  },
  {
   "cell_type": "code",
   "execution_count": 49,
   "id": "d8a27de2-1266-402b-86a3-9c24ecd2b176",
   "metadata": {},
   "outputs": [
    {
     "data": {
      "text/plain": [
       "(33642, 39)"
      ]
     },
     "execution_count": 49,
     "metadata": {},
     "output_type": "execute_result"
    }
   ],
   "source": [
    "df_suicide.shape"
   ]
  },
  {
   "cell_type": "code",
   "execution_count": 50,
   "id": "3ebf6840-7bb1-4eea-9029-d6cede1a47d9",
   "metadata": {},
   "outputs": [],
   "source": [
    "# Revisión de las variables de nacimiento y ocurrencia de la defunción\n",
    "min_dates_s = df_suicide[var_dates].min()\n",
    "max_dates_s = df_suicide[var_dates].max()"
   ]
  },
  {
   "cell_type": "code",
   "execution_count": 51,
   "id": "feb52f68-53dc-440d-8f67-4ab6ae0995b9",
   "metadata": {},
   "outputs": [
    {
     "data": {
      "text/html": [
       "<div>\n",
       "<style scoped>\n",
       "    .dataframe tbody tr th:only-of-type {\n",
       "        vertical-align: middle;\n",
       "    }\n",
       "\n",
       "    .dataframe tbody tr th {\n",
       "        vertical-align: top;\n",
       "    }\n",
       "\n",
       "    .dataframe thead th {\n",
       "        text-align: right;\n",
       "    }\n",
       "</style>\n",
       "<table border=\"1\" class=\"dataframe\">\n",
       "  <thead>\n",
       "    <tr style=\"text-align: right;\">\n",
       "      <th></th>\n",
       "      <th>Minimo</th>\n",
       "      <th>Maximo</th>\n",
       "    </tr>\n",
       "  </thead>\n",
       "  <tbody>\n",
       "    <tr>\n",
       "      <th>anio_nacim</th>\n",
       "      <td>1916</td>\n",
       "      <td>9999</td>\n",
       "    </tr>\n",
       "    <tr>\n",
       "      <th>mes_nacim</th>\n",
       "      <td>1</td>\n",
       "      <td>99</td>\n",
       "    </tr>\n",
       "    <tr>\n",
       "      <th>dia_nacim</th>\n",
       "      <td>1</td>\n",
       "      <td>99</td>\n",
       "    </tr>\n",
       "    <tr>\n",
       "      <th>anio_ocur</th>\n",
       "      <td>2000</td>\n",
       "      <td>9999</td>\n",
       "    </tr>\n",
       "    <tr>\n",
       "      <th>mes_ocurr</th>\n",
       "      <td>1</td>\n",
       "      <td>99</td>\n",
       "    </tr>\n",
       "    <tr>\n",
       "      <th>dia_ocurr</th>\n",
       "      <td>1</td>\n",
       "      <td>99</td>\n",
       "    </tr>\n",
       "  </tbody>\n",
       "</table>\n",
       "</div>"
      ],
      "text/plain": [
       "            Minimo  Maximo\n",
       "anio_nacim    1916    9999\n",
       "mes_nacim        1      99\n",
       "dia_nacim        1      99\n",
       "anio_ocur     2000    9999\n",
       "mes_ocurr        1      99\n",
       "dia_ocurr        1      99"
      ]
     },
     "execution_count": 51,
     "metadata": {},
     "output_type": "execute_result"
    }
   ],
   "source": [
    "resume_dates_s = pd.DataFrame({\n",
    "    'Minimo': min_dates_s,\n",
    "    'Maximo': max_dates_s\n",
    "})\n",
    "\n",
    "resume_dates_s"
   ]
  },
  {
   "cell_type": "code",
   "execution_count": 52,
   "id": "b35e95db-dbc4-455c-9df4-65da0a9bf153",
   "metadata": {},
   "outputs": [],
   "source": [
    "# Revisión de fechas 9999/99\n",
    "cod_anomalos = {\n",
    "    'anio_nacim': 9999, 'anio_ocur': 9999,\n",
    "    'mes_nacim': 99, 'mes_ocurr': 99,\n",
    "    'dia_nacim': 99, 'dia_ocurr': 99\n",
    "}\n",
    "\n",
    "count_anomalos_s = {}\n",
    "for var in var_dates:\n",
    "    codigo = cod_anomalos[var]\n",
    "    count_anomalos_s[var] = df_suicide[df_suicide[var] == codigo].shape[0]\n",
    "\n",
    "count_serie_s = pd.Series(count_anomalos_s)\n",
    "\n",
    "count_nacim_s = count_serie_s[['anio_nacim', 'mes_nacim', 'dia_nacim']]\n",
    "count_ocurr_s = count_serie_s[['anio_ocur', 'mes_ocurr', 'dia_ocurr']]"
   ]
  },
  {
   "cell_type": "code",
   "execution_count": 53,
   "id": "4baf308f-6ecb-455b-8cce-22266d8436ea",
   "metadata": {},
   "outputs": [
    {
     "name": "stdout",
     "output_type": "stream",
     "text": [
      "anio_nacim    1674\n",
      "mes_nacim     1701\n",
      "dia_nacim     1704\n",
      "anio_ocur       31\n",
      "mes_ocurr       72\n",
      "dia_ocurr      142\n",
      "dtype: int64\n"
     ]
    }
   ],
   "source": [
    "print(count_serie_s)"
   ]
  },
  {
   "cell_type": "code",
   "execution_count": 54,
   "id": "ac13da16-f67e-4cfb-87d0-6be57d569239",
   "metadata": {},
   "outputs": [
    {
     "data": {
      "text/plain": [
       "<IntegerArray>\n",
       "[  26,   30,   15,   34,   22,   50,   71,   31,   20,   62,   23,   35,   53,\n",
       "   60,   56,   28,   27,   38,   42,   14,   48,   18,   43,   51,   25,   44,\n",
       "   52,   16,   49,   19,   29,   41,   32,   81,   24,   68,   21,   46,   55,\n",
       "   40,   75,   47,   59,   12,   79,   37, <NA>,   36,   72,   65,   67,   61,\n",
       "   66,   57,   45,   39,   76,   69,   17,   33,   63,   73,   13,   64,   82,\n",
       "   54,   58,   74,   80,   70,   90,   85,   77,   89,   11,   87,   86,   10,\n",
       "   84,   78,   88,    8,  101,  100,   83,   92,   93,   95,   91,   94,   96,\n",
       "    9,    0,   99,  105,   98]\n",
       "Length: 96, dtype: Int64"
      ]
     },
     "execution_count": 54,
     "metadata": {},
     "output_type": "execute_result"
    }
   ],
   "source": [
    "df_suicide['age_final'].unique()"
   ]
  },
  {
   "cell_type": "code",
   "execution_count": 55,
   "id": "dd21bbbd-6000-458a-b4cb-6a4665f1b697",
   "metadata": {},
   "outputs": [],
   "source": [
    "# Valida-Fecha\n",
    "diff_edad = (df_suicide['age_final'] - df_suicide['age']).abs() == 1"
   ]
  },
  {
   "cell_type": "code",
   "execution_count": 56,
   "id": "277bf83c-2297-4a95-9d57-7d401fa11e2e",
   "metadata": {},
   "outputs": [
    {
     "data": {
      "text/plain": [
       "np.int64(56)"
      ]
     },
     "execution_count": 56,
     "metadata": {},
     "output_type": "execute_result"
    }
   ],
   "source": [
    "diff_edad.sum() # Esta diferencia se da por la estimación que usamos de 365.25"
   ]
  },
  {
   "cell_type": "code",
   "execution_count": 57,
   "id": "8d0d2948-488e-420d-89f8-e8f2b3066ba2",
   "metadata": {},
   "outputs": [],
   "source": [
    "# Para estos 56 casos nos quedaremos con las edades de la bd (para mayor precisión)\n",
    "df_suicide.loc[diff_edad, 'age_final'] = df_suicide.loc[diff_edad, 'age']"
   ]
  },
  {
   "cell_type": "code",
   "execution_count": 58,
   "id": "506ec211-51f1-4411-af7f-7016ed7004ad",
   "metadata": {},
   "outputs": [
    {
     "data": {
      "text/plain": [
       "np.int64(325)"
      ]
     },
     "execution_count": 58,
     "metadata": {},
     "output_type": "execute_result"
    }
   ],
   "source": [
    "df_suicide['age_final'].isnull().sum()"
   ]
  },
  {
   "cell_type": "code",
   "execution_count": 59,
   "id": "9d7026d5-a723-4dfe-9da8-835efb6f0033",
   "metadata": {},
   "outputs": [],
   "source": [
    "dif_edad = (df_suicide['age_final'] - df_suicide['age']).abs() "
   ]
  },
  {
   "cell_type": "code",
   "execution_count": 60,
   "id": "6699c187-2f12-46e4-adad-32fe1f7de1cf",
   "metadata": {},
   "outputs": [
    {
     "data": {
      "text/plain": [
       "0.0     33308\n",
       "20.0        5\n",
       "31.0        3\n",
       "38.0        1\n",
       "Name: count, dtype: Int64"
      ]
     },
     "execution_count": 60,
     "metadata": {},
     "output_type": "execute_result"
    }
   ],
   "source": [
    "dif_edad.value_counts()"
   ]
  },
  {
   "cell_type": "code",
   "execution_count": 61,
   "id": "06be08e3-0292-4d2d-8d3d-63f01df0bce1",
   "metadata": {},
   "outputs": [],
   "source": [
    "# Revisión de casos con diferencia\n",
    "filter_dif = dif_edad.abs().isin([20.0, 31.0, 38.0])\n",
    "\n",
    "rev_df = df_suicide.loc[filter_dif, [\n",
    "    'age', 'age_final', 'edad_agru',\n",
    "    'fecha_nacim', 'fecha_ocurr',\n",
    "    'grupo', 'causa_def' # Columna clave para validar el suicidio\n",
    "]].copy()"
   ]
  },
  {
   "cell_type": "code",
   "execution_count": 62,
   "id": "ae837a70-cc8e-42c5-9c87-0bda9092d2d2",
   "metadata": {},
   "outputs": [
    {
     "data": {
      "text/html": [
       "<div>\n",
       "<style scoped>\n",
       "    .dataframe tbody tr th:only-of-type {\n",
       "        vertical-align: middle;\n",
       "    }\n",
       "\n",
       "    .dataframe tbody tr th {\n",
       "        vertical-align: top;\n",
       "    }\n",
       "\n",
       "    .dataframe thead th {\n",
       "        text-align: right;\n",
       "    }\n",
       "</style>\n",
       "<table border=\"1\" class=\"dataframe\">\n",
       "  <thead>\n",
       "    <tr style=\"text-align: right;\">\n",
       "      <th></th>\n",
       "      <th>age</th>\n",
       "      <th>age_final</th>\n",
       "      <th>edad_agru</th>\n",
       "      <th>fecha_nacim</th>\n",
       "      <th>fecha_ocurr</th>\n",
       "      <th>grupo</th>\n",
       "      <th>causa_def</th>\n",
       "    </tr>\n",
       "  </thead>\n",
       "  <tbody>\n",
       "    <tr>\n",
       "      <th>10367</th>\n",
       "      <td>20.0</td>\n",
       "      <td>0</td>\n",
       "      <td>9</td>\n",
       "      <td>2022-02-16</td>\n",
       "      <td>2022-05-07</td>\n",
       "      <td>26</td>\n",
       "      <td>X700</td>\n",
       "    </tr>\n",
       "    <tr>\n",
       "      <th>10582</th>\n",
       "      <td>20.0</td>\n",
       "      <td>0</td>\n",
       "      <td>9</td>\n",
       "      <td>2022-05-09</td>\n",
       "      <td>2022-08-01</td>\n",
       "      <td>26</td>\n",
       "      <td>X700</td>\n",
       "    </tr>\n",
       "    <tr>\n",
       "      <th>13617</th>\n",
       "      <td>20.0</td>\n",
       "      <td>0</td>\n",
       "      <td>9</td>\n",
       "      <td>2022-04-27</td>\n",
       "      <td>2022-09-16</td>\n",
       "      <td>26</td>\n",
       "      <td>X700</td>\n",
       "    </tr>\n",
       "    <tr>\n",
       "      <th>20562</th>\n",
       "      <td>31.0</td>\n",
       "      <td>0</td>\n",
       "      <td>11</td>\n",
       "      <td>2021-04-04</td>\n",
       "      <td>2021-10-28</td>\n",
       "      <td>26</td>\n",
       "      <td>X700</td>\n",
       "    </tr>\n",
       "    <tr>\n",
       "      <th>23804</th>\n",
       "      <td>20.0</td>\n",
       "      <td>0</td>\n",
       "      <td>9</td>\n",
       "      <td>2021-11-06</td>\n",
       "      <td>2021-12-02</td>\n",
       "      <td>26</td>\n",
       "      <td>X708</td>\n",
       "    </tr>\n",
       "    <tr>\n",
       "      <th>25251</th>\n",
       "      <td>20.0</td>\n",
       "      <td>0</td>\n",
       "      <td>9</td>\n",
       "      <td>2021-02-16</td>\n",
       "      <td>2021-10-07</td>\n",
       "      <td>26</td>\n",
       "      <td>X700</td>\n",
       "    </tr>\n",
       "    <tr>\n",
       "      <th>28650</th>\n",
       "      <td>38.0</td>\n",
       "      <td>0</td>\n",
       "      <td>12</td>\n",
       "      <td>2020-04-26</td>\n",
       "      <td>2020-04-30</td>\n",
       "      <td>26</td>\n",
       "      <td>X708</td>\n",
       "    </tr>\n",
       "    <tr>\n",
       "      <th>31011</th>\n",
       "      <td>31.0</td>\n",
       "      <td>0</td>\n",
       "      <td>11</td>\n",
       "      <td>2020-07-01</td>\n",
       "      <td>2020-09-17</td>\n",
       "      <td>26</td>\n",
       "      <td>X700</td>\n",
       "    </tr>\n",
       "    <tr>\n",
       "      <th>32482</th>\n",
       "      <td>31.0</td>\n",
       "      <td>0</td>\n",
       "      <td>11</td>\n",
       "      <td>2020-07-23</td>\n",
       "      <td>2020-09-07</td>\n",
       "      <td>26</td>\n",
       "      <td>X700</td>\n",
       "    </tr>\n",
       "  </tbody>\n",
       "</table>\n",
       "</div>"
      ],
      "text/plain": [
       "        age  age_final  edad_agru fecha_nacim fecha_ocurr  grupo causa_def\n",
       "10367  20.0          0          9  2022-02-16  2022-05-07     26      X700\n",
       "10582  20.0          0          9  2022-05-09  2022-08-01     26      X700\n",
       "13617  20.0          0          9  2022-04-27  2022-09-16     26      X700\n",
       "20562  31.0          0         11  2021-04-04  2021-10-28     26      X700\n",
       "23804  20.0          0          9  2021-11-06  2021-12-02     26      X708\n",
       "25251  20.0          0          9  2021-02-16  2021-10-07     26      X700\n",
       "28650  38.0          0         12  2020-04-26  2020-04-30     26      X708\n",
       "31011  31.0          0         11  2020-07-01  2020-09-17     26      X700\n",
       "32482  31.0          0         11  2020-07-23  2020-09-07     26      X700"
      ]
     },
     "execution_count": 62,
     "metadata": {},
     "output_type": "execute_result"
    }
   ],
   "source": [
    "rev_df"
   ]
  },
  {
   "cell_type": "code",
   "execution_count": 63,
   "id": "9b13c2a4-fdf2-4261-8a49-62d49f6d421a",
   "metadata": {},
   "outputs": [
    {
     "data": {
      "text/plain": [
       "np.float64(0.0099)"
      ]
     },
     "execution_count": 63,
     "metadata": {},
     "output_type": "execute_result"
    }
   ],
   "source": [
    "((df_suicide['age_final'].isnull().sum() + len(rev_df))/len(df_suicide)).round(4)"
   ]
  },
  {
   "cell_type": "markdown",
   "id": "d7fd1910-8eec-4f1d-848d-c480c6b06e1b",
   "metadata": {},
   "source": [
    "En estos casos, la edad calculada es correcta; sin embargo, no tiene sentido un suicidio en bebés.\n",
    "Para estos casos y los 325 casos en donde la edad es NULL derivado de que tanto la edad original como las fechas para calcularla son desconocidas, la estrategia será imputarles la mediana de las edades.\n",
    "Es importante imputar porque la variable es crucial en el análisis y para el clustering es mejor no tener valores nulos, utilizamos la mediana para mayor practicidad y porque no se ve influenciado por valores extremos. Además, el % de imputación será sólo un 1%"
   ]
  },
  {
   "cell_type": "code",
   "execution_count": 64,
   "id": "01a5a131-33e8-4d01-9651-87b113ef35f5",
   "metadata": {},
   "outputs": [
    {
     "data": {
      "text/plain": [
       "np.int64(33308)"
      ]
     },
     "execution_count": 64,
     "metadata": {},
     "output_type": "execute_result"
    }
   ],
   "source": [
    "# Filtro sin NA y sin los 9 casos anómalos para cálculo de la mediana\n",
    "filter_edad = (df_suicide['age_final'].notna()) & (df_suicide['age_final'] > 0)\n",
    "filter_edad.sum()"
   ]
  },
  {
   "cell_type": "code",
   "execution_count": 65,
   "id": "33cc7d4f-0bbe-40fe-83ea-480f2baaf25f",
   "metadata": {},
   "outputs": [
    {
     "data": {
      "text/plain": [
       "np.float64(32.0)"
      ]
     },
     "execution_count": 65,
     "metadata": {},
     "output_type": "execute_result"
    }
   ],
   "source": [
    "median_age = df_suicide.loc[filter_edad, 'age_final'].median()\n",
    "median_age"
   ]
  },
  {
   "cell_type": "code",
   "execution_count": 66,
   "id": "91fdfd69-6a9a-4d7b-8748-30a720228202",
   "metadata": {},
   "outputs": [
    {
     "data": {
      "text/plain": [
       "(33642,)"
      ]
     },
     "execution_count": 66,
     "metadata": {},
     "output_type": "execute_result"
    }
   ],
   "source": [
    "# Identificación de casos para imputación\n",
    "filter_nulls = df_suicide['age_final'].isnull()\n",
    "filter_nulls.shape"
   ]
  },
  {
   "cell_type": "code",
   "execution_count": 67,
   "id": "e6f2ab06-c866-489e-9de9-cec920def739",
   "metadata": {},
   "outputs": [
    {
     "data": {
      "text/plain": [
       "np.int64(325)"
      ]
     },
     "execution_count": 67,
     "metadata": {},
     "output_type": "execute_result"
    }
   ],
   "source": [
    "filter_nulls.sum()"
   ]
  },
  {
   "cell_type": "code",
   "execution_count": 68,
   "id": "0b5cfe76-5aba-4f4e-9d23-ad88b5ada511",
   "metadata": {},
   "outputs": [],
   "source": [
    "anomal_age = (df_suicide['age_final'] == 0) & (df_suicide['age'] > 0)"
   ]
  },
  {
   "cell_type": "code",
   "execution_count": 69,
   "id": "4a95b0a0-2426-49ae-9961-2e0a7110eee1",
   "metadata": {},
   "outputs": [
    {
     "data": {
      "text/plain": [
       "np.int64(9)"
      ]
     },
     "execution_count": 69,
     "metadata": {},
     "output_type": "execute_result"
    }
   ],
   "source": [
    "anomal_age.sum()"
   ]
  },
  {
   "cell_type": "code",
   "execution_count": 70,
   "id": "fd141508-8136-4389-b628-6ee156b98f90",
   "metadata": {},
   "outputs": [],
   "source": [
    "index_imputacion = filter_nulls | anomal_age"
   ]
  },
  {
   "cell_type": "code",
   "execution_count": 71,
   "id": "eed2d2ca-a54d-4677-ae54-d2e35da0d7de",
   "metadata": {},
   "outputs": [
    {
     "data": {
      "text/plain": [
       "np.int64(334)"
      ]
     },
     "execution_count": 71,
     "metadata": {},
     "output_type": "execute_result"
    }
   ],
   "source": [
    "index_imputacion.sum()"
   ]
  },
  {
   "cell_type": "code",
   "execution_count": 72,
   "id": "bb04fbae-fb25-403d-b068-9b78ad73125b",
   "metadata": {},
   "outputs": [
    {
     "name": "stdout",
     "output_type": "stream",
     "text": [
      "age_final\n",
      "25     1053\n",
      "27     1013\n",
      "26     1006\n",
      "28     1000\n",
      "22      984\n",
      "       ... \n",
      "100       2\n",
      "95        1\n",
      "101       1\n",
      "105       1\n",
      "98        1\n",
      "Name: count, Length: 95, dtype: Int64\n"
     ]
    }
   ],
   "source": [
    "print(df_suicide['age_final'].value_counts())"
   ]
  },
  {
   "cell_type": "code",
   "execution_count": 73,
   "id": "6eb8b9d8-8c42-4fff-b2f9-c7490044896c",
   "metadata": {},
   "outputs": [],
   "source": [
    "# Imputación de la mediana\n",
    "df_suicide.loc[index_imputacion, 'age_final'] = median_age\n",
    "df_suicide['age_final'] = df_suicide['age_final'].astype('Int64')"
   ]
  },
  {
   "cell_type": "code",
   "execution_count": 74,
   "id": "d0c3e876-1da4-4436-9950-1a097fcdb6f7",
   "metadata": {},
   "outputs": [
    {
     "data": {
      "text/plain": [
       "np.int64(0)"
      ]
     },
     "execution_count": 74,
     "metadata": {},
     "output_type": "execute_result"
    }
   ],
   "source": [
    "df_suicide['age_final'].isnull().sum()"
   ]
  },
  {
   "cell_type": "code",
   "execution_count": 75,
   "id": "3388ed66-ce88-42c6-8022-ecae4a0c3c00",
   "metadata": {},
   "outputs": [
    {
     "data": {
      "image/png": "[encoded data removed]",
      "text/plain": [
       "<Figure size 1000x600 with 1 Axes>"
      ]
     },
     "metadata": {},
     "output_type": "display_data"
    }
   ],
   "source": [
    "# Visualización\n",
    "plt.figure(figsize=(10, 6))\n",
    "\n",
    "# Densidad\n",
    "sn.kdeplot(\n",
    "    data=df_suicide, \n",
    "    x='age_final', \n",
    "    fill=True, \n",
    "    color='#A1807C', \n",
    "    alpha=.6, \n",
    "    linewidth=2\n",
    ")\n",
    "\n",
    "# Identificación de la mediana como referencia\n",
    "mediana = df_suicide['age_final'].median()\n",
    "plt.axvline(\n",
    "    mediana, \n",
    "    color='#795B58', \n",
    "    linestyle='--', \n",
    "    linewidth=2, \n",
    "    label=f'Mediana: {mediana:.0f} años'\n",
    ")\n",
    "\n",
    "# Featuring\n",
    "plt.title('Distribución de frecuencia de edades en casos de suicidio', fontsize=16, weight='bold')\n",
    "plt.xlabel('Edad (años cumplidos)', fontsize=12)\n",
    "plt.ylabel('Densidad de casos', fontsize=12)\n",
    "plt.xlim(0, df_suicide['age_final'].max() * 1.05)\n",
    "plt.grid(axis='y', linestyle='--', alpha=0.4)\n",
    "plt.legend()\n",
    "plt.show()"
   ]
  },
  {
   "cell_type": "markdown",
   "id": "468157dc-6fbc-49c5-afe3-6a2084abf67f",
   "metadata": {
    "jp-MarkdownHeadingCollapsed": true
   },
   "source": [
    "## 03.2. Revisión del género"
   ]
  },
  {
   "cell_type": "code",
   "execution_count": 76,
   "id": "2f84fc70-6870-4cad-a0d5-037b25fc86cc",
   "metadata": {},
   "outputs": [
    {
     "data": {
      "text/plain": [
       "Index(['ent_resid', 'mun_resid', 'tloc_resid', 'loc_resid', 'ent_ocurr',\n",
       "       'mun_ocurr', 'tloc_ocurr', 'loc_ocurr', 'causa_def', 'sexo', 'edad',\n",
       "       'dia_ocurr', 'mes_ocurr', 'anio_ocur', 'dia_nacim', 'mes_nacim',\n",
       "       'anio_nacim', 'ocupacion', 'escolarida', 'edo_civil', 'lugar_ocur',\n",
       "       'necropsia', 'asist_medi', 'sitio_ocur', 'cond_cert', 'derechohab',\n",
       "       'horas', 'minutos', 'grupo', 'area_ur', 'edad_agru', 'cond_act',\n",
       "       'tipo_defun', 'year_db', 'age', 'fecha_nacim', 'fecha_ocurr',\n",
       "       'age_manual', 'age_final'],\n",
       "      dtype='object')"
      ]
     },
     "execution_count": 76,
     "metadata": {},
     "output_type": "execute_result"
    }
   ],
   "source": [
    "df_suicide.columns"
   ]
  },
  {
   "cell_type": "code",
   "execution_count": 77,
   "id": "80edf8dd-026b-40ad-9550-7ba359775f62",
   "metadata": {},
   "outputs": [
    {
     "data": {
      "text/plain": [
       "sexo\n",
       "1    0.812140\n",
       "2    0.187058\n",
       "9    0.000803\n",
       "Name: proportion, dtype: float64"
      ]
     },
     "execution_count": 77,
     "metadata": {},
     "output_type": "execute_result"
    }
   ],
   "source": [
    "df_suicide['sexo'].value_counts(1)"
   ]
  },
  {
   "cell_type": "markdown",
   "id": "9f0b4fbc-8fd4-4ee9-9930-6b4d76cc3bc8",
   "metadata": {},
   "source": [
    "La categoría 9 está asociada al sexo **No Especificado**. Dado que la categoría dominante es 1:hombre, se optará por reclasificar estas casos como 1, lo cual representa un menor impacto en el sesgo."
   ]
  },
  {
   "cell_type": "code",
   "execution_count": 78,
   "id": "b4289fb9-605e-4de6-af55-b658629ef4c9",
   "metadata": {},
   "outputs": [],
   "source": [
    "df_suicide.loc[df_suicide['sexo'] == 9, 'sexo'] = 1\n",
    "df_suicide['sexo'] = df_suicide['sexo'].fillna(1)"
   ]
  },
  {
   "cell_type": "code",
   "execution_count": 79,
   "id": "43b5b8cf-9514-4739-8c55-4fa7a226213b",
   "metadata": {},
   "outputs": [
    {
     "data": {
      "text/plain": [
       "sexo\n",
       "1    0.812942\n",
       "2    0.187058\n",
       "Name: proportion, dtype: float64"
      ]
     },
     "execution_count": 79,
     "metadata": {},
     "output_type": "execute_result"
    }
   ],
   "source": [
    "# Nueva distribución\n",
    "df_suicide['sexo'].value_counts(1)"
   ]
  },
  {
   "cell_type": "code",
   "execution_count": 80,
   "id": "e397862e-6f2c-4b0d-9701-e4e54fceef33",
   "metadata": {},
   "outputs": [],
   "source": [
    "# Decodoficación del sexo\n",
    "df_suicide['sexo'] = df_suicide['sexo'].map({1: 'Hombre', 2: 'Mujer'})"
   ]
  },
  {
   "cell_type": "code",
   "execution_count": 81,
   "id": "dfee4b45-ee5d-4dbb-8467-d5cd8bbb7951",
   "metadata": {},
   "outputs": [],
   "source": [
    "# Cálculo de la mediana por género, como referencia \n",
    "median_gender = df_suicide.groupby('sexo')['age_final'].median()\n",
    "\n",
    "median_man = median_gender['Hombre']\n",
    "median_women = median_gender['Mujer']"
   ]
  },
  {
   "cell_type": "code",
   "execution_count": 82,
   "id": "815c247b-d698-4efa-ac10-1f4499123874",
   "metadata": {},
   "outputs": [
    {
     "data": {
      "image/png": "[encoded data removed]",
      "text/plain": [
       "<Figure size 1000x600 with 1 Axes>"
      ]
     },
     "metadata": {},
     "output_type": "display_data"
    }
   ],
   "source": [
    "# Visualización\n",
    "plt.figure(figsize=(10, 6))\n",
    "\n",
    "# Densidades por género\n",
    "sn.kdeplot(\n",
    "    data=df_suicide, \n",
    "    x='age_final', \n",
    "    hue='sexo', \n",
    "    fill=True, \n",
    "    alpha=.6, \n",
    "    linewidth=2,\n",
    "    palette={'Hombre': '#7C82A1', 'Mujer': '#45495F'}\n",
    ")\n",
    "\n",
    "# Mediana hombre\n",
    "plt.axvline(\n",
    "    median_man, \n",
    "    color='#7C82A1', \n",
    "    linestyle='--', \n",
    "    linewidth=1.5, \n",
    "    label=f'Mediana Hombre: {median_man:.0f} años'\n",
    ")\n",
    "\n",
    "# Mediana mujer\n",
    "plt.axvline(\n",
    "    median_women, \n",
    "    color='#45495F', \n",
    "    linestyle='--', \n",
    "    linewidth=1.5, \n",
    "    label=f'Mediana Mujer: {median_women:.0f} años'\n",
    ")\n",
    "\n",
    "plt.title('Distribución de edad de suicidios: comparativa por género', fontsize=16, weight='bold')\n",
    "plt.xlabel('Edad (años cumplidos)', fontsize=12)\n",
    "plt.ylabel('Densidad de casos', fontsize=12)\n",
    "plt.xlim(0, df_suicide['age_final'].max() * 1.05)\n",
    "plt.grid(axis='y', linestyle='--', alpha=0.4)\n",
    "plt.legend() \n",
    "plt.show()"
   ]
  },
  {
   "cell_type": "markdown",
   "id": "cc2686ac-a366-46ff-a772-63282a9523a5",
   "metadata": {
    "jp-MarkdownHeadingCollapsed": true
   },
   "source": [
    "## 03.3. Revisión del estado civil"
   ]
  },
  {
   "cell_type": "code",
   "execution_count": 83,
   "id": "199ead47-0357-4c5a-8f45-674ba4f06fab",
   "metadata": {},
   "outputs": [
    {
     "data": {
      "text/plain": [
       "edo_civil\n",
       "1    16069\n",
       "5     7019\n",
       "4     6119\n",
       "9     2323\n",
       "2      807\n",
       "3      582\n",
       "6      578\n",
       "8      145\n",
       "Name: count, dtype: int64"
      ]
     },
     "execution_count": 83,
     "metadata": {},
     "output_type": "execute_result"
    }
   ],
   "source": [
    "df_suicide['edo_civil'].value_counts()"
   ]
  },
  {
   "cell_type": "code",
   "execution_count": 84,
   "id": "3397750e-9e04-4f1e-9f06-d7681cb86197",
   "metadata": {},
   "outputs": [],
   "source": [
    "cont_table_civil = pd.crosstab(index = df_suicide['edo_civil'], columns = df_suicide['year_db'])\n",
    "cont_table_civil['Total'] = cont_table_civil.sum(axis = 1)"
   ]
  },
  {
   "cell_type": "code",
   "execution_count": 85,
   "id": "6347c955-c159-4159-a098-de6ea78228c3",
   "metadata": {},
   "outputs": [
    {
     "data": {
      "text/html": [
       "<div>\n",
       "<style scoped>\n",
       "    .dataframe tbody tr th:only-of-type {\n",
       "        vertical-align: middle;\n",
       "    }\n",
       "\n",
       "    .dataframe tbody tr th {\n",
       "        vertical-align: top;\n",
       "    }\n",
       "\n",
       "    .dataframe thead th {\n",
       "        text-align: right;\n",
       "    }\n",
       "</style>\n",
       "<table border=\"1\" class=\"dataframe\">\n",
       "  <thead>\n",
       "    <tr style=\"text-align: right;\">\n",
       "      <th>year_db</th>\n",
       "      <th>2020</th>\n",
       "      <th>2021</th>\n",
       "      <th>2022</th>\n",
       "      <th>2023</th>\n",
       "      <th>Total</th>\n",
       "    </tr>\n",
       "    <tr>\n",
       "      <th>edo_civil</th>\n",
       "      <th></th>\n",
       "      <th></th>\n",
       "      <th></th>\n",
       "      <th></th>\n",
       "      <th></th>\n",
       "    </tr>\n",
       "  </thead>\n",
       "  <tbody>\n",
       "    <tr>\n",
       "      <th>1</th>\n",
       "      <td>3701</td>\n",
       "      <td>3914</td>\n",
       "      <td>3917</td>\n",
       "      <td>4537</td>\n",
       "      <td>16069</td>\n",
       "    </tr>\n",
       "    <tr>\n",
       "      <th>2</th>\n",
       "      <td>195</td>\n",
       "      <td>192</td>\n",
       "      <td>211</td>\n",
       "      <td>209</td>\n",
       "      <td>807</td>\n",
       "    </tr>\n",
       "    <tr>\n",
       "      <th>3</th>\n",
       "      <td>131</td>\n",
       "      <td>163</td>\n",
       "      <td>140</td>\n",
       "      <td>148</td>\n",
       "      <td>582</td>\n",
       "    </tr>\n",
       "    <tr>\n",
       "      <th>4</th>\n",
       "      <td>1455</td>\n",
       "      <td>1521</td>\n",
       "      <td>1494</td>\n",
       "      <td>1649</td>\n",
       "      <td>6119</td>\n",
       "    </tr>\n",
       "    <tr>\n",
       "      <th>5</th>\n",
       "      <td>1677</td>\n",
       "      <td>1857</td>\n",
       "      <td>1741</td>\n",
       "      <td>1744</td>\n",
       "      <td>7019</td>\n",
       "    </tr>\n",
       "    <tr>\n",
       "      <th>6</th>\n",
       "      <td>131</td>\n",
       "      <td>146</td>\n",
       "      <td>126</td>\n",
       "      <td>175</td>\n",
       "      <td>578</td>\n",
       "    </tr>\n",
       "    <tr>\n",
       "      <th>8</th>\n",
       "      <td>46</td>\n",
       "      <td>34</td>\n",
       "      <td>35</td>\n",
       "      <td>30</td>\n",
       "      <td>145</td>\n",
       "    </tr>\n",
       "    <tr>\n",
       "      <th>9</th>\n",
       "      <td>560</td>\n",
       "      <td>606</td>\n",
       "      <td>577</td>\n",
       "      <td>580</td>\n",
       "      <td>2323</td>\n",
       "    </tr>\n",
       "  </tbody>\n",
       "</table>\n",
       "</div>"
      ],
      "text/plain": [
       "year_db    2020  2021  2022  2023  Total\n",
       "edo_civil                               \n",
       "1          3701  3914  3917  4537  16069\n",
       "2           195   192   211   209    807\n",
       "3           131   163   140   148    582\n",
       "4          1455  1521  1494  1649   6119\n",
       "5          1677  1857  1741  1744   7019\n",
       "6           131   146   126   175    578\n",
       "8            46    34    35    30    145\n",
       "9           560   606   577   580   2323"
      ]
     },
     "execution_count": 85,
     "metadata": {},
     "output_type": "execute_result"
    }
   ],
   "source": [
    "cont_table_civil"
   ]
  },
  {
   "cell_type": "code",
   "execution_count": 86,
   "id": "f857dd92-b3fc-4297-b364-4983e2e40e93",
   "metadata": {},
   "outputs": [],
   "source": [
    "cont_table_civil_perc = pd.crosstab(index = df_suicide['edo_civil'], columns = df_suicide['year_db'], normalize='columns')\n",
    "cont_table_civil_perc = (cont_table_civil_perc * 100).round(2)"
   ]
  },
  {
   "cell_type": "code",
   "execution_count": 87,
   "id": "7c6e5094-e204-4eea-8948-62ea162147b8",
   "metadata": {},
   "outputs": [
    {
     "data": {
      "text/html": [
       "<div>\n",
       "<style scoped>\n",
       "    .dataframe tbody tr th:only-of-type {\n",
       "        vertical-align: middle;\n",
       "    }\n",
       "\n",
       "    .dataframe tbody tr th {\n",
       "        vertical-align: top;\n",
       "    }\n",
       "\n",
       "    .dataframe thead th {\n",
       "        text-align: right;\n",
       "    }\n",
       "</style>\n",
       "<table border=\"1\" class=\"dataframe\">\n",
       "  <thead>\n",
       "    <tr style=\"text-align: right;\">\n",
       "      <th>year_db</th>\n",
       "      <th>2020</th>\n",
       "      <th>2021</th>\n",
       "      <th>2022</th>\n",
       "      <th>2023</th>\n",
       "    </tr>\n",
       "    <tr>\n",
       "      <th>edo_civil</th>\n",
       "      <th></th>\n",
       "      <th></th>\n",
       "      <th></th>\n",
       "      <th></th>\n",
       "    </tr>\n",
       "  </thead>\n",
       "  <tbody>\n",
       "    <tr>\n",
       "      <th>1</th>\n",
       "      <td>46.87</td>\n",
       "      <td>46.41</td>\n",
       "      <td>47.53</td>\n",
       "      <td>50.01</td>\n",
       "    </tr>\n",
       "    <tr>\n",
       "      <th>2</th>\n",
       "      <td>2.47</td>\n",
       "      <td>2.28</td>\n",
       "      <td>2.56</td>\n",
       "      <td>2.30</td>\n",
       "    </tr>\n",
       "    <tr>\n",
       "      <th>3</th>\n",
       "      <td>1.66</td>\n",
       "      <td>1.93</td>\n",
       "      <td>1.70</td>\n",
       "      <td>1.63</td>\n",
       "    </tr>\n",
       "    <tr>\n",
       "      <th>4</th>\n",
       "      <td>18.43</td>\n",
       "      <td>18.04</td>\n",
       "      <td>18.13</td>\n",
       "      <td>18.18</td>\n",
       "    </tr>\n",
       "    <tr>\n",
       "      <th>5</th>\n",
       "      <td>21.24</td>\n",
       "      <td>22.02</td>\n",
       "      <td>21.13</td>\n",
       "      <td>19.22</td>\n",
       "    </tr>\n",
       "    <tr>\n",
       "      <th>6</th>\n",
       "      <td>1.66</td>\n",
       "      <td>1.73</td>\n",
       "      <td>1.53</td>\n",
       "      <td>1.93</td>\n",
       "    </tr>\n",
       "    <tr>\n",
       "      <th>8</th>\n",
       "      <td>0.58</td>\n",
       "      <td>0.40</td>\n",
       "      <td>0.42</td>\n",
       "      <td>0.33</td>\n",
       "    </tr>\n",
       "    <tr>\n",
       "      <th>9</th>\n",
       "      <td>7.09</td>\n",
       "      <td>7.19</td>\n",
       "      <td>7.00</td>\n",
       "      <td>6.39</td>\n",
       "    </tr>\n",
       "  </tbody>\n",
       "</table>\n",
       "</div>"
      ],
      "text/plain": [
       "year_db     2020   2021   2022   2023\n",
       "edo_civil                            \n",
       "1          46.87  46.41  47.53  50.01\n",
       "2           2.47   2.28   2.56   2.30\n",
       "3           1.66   1.93   1.70   1.63\n",
       "4          18.43  18.04  18.13  18.18\n",
       "5          21.24  22.02  21.13  19.22\n",
       "6           1.66   1.73   1.53   1.93\n",
       "8           0.58   0.40   0.42   0.33\n",
       "9           7.09   7.19   7.00   6.39"
      ]
     },
     "execution_count": 87,
     "metadata": {},
     "output_type": "execute_result"
    }
   ],
   "source": [
    "cont_table_civil_perc"
   ]
  },
  {
   "cell_type": "code",
   "execution_count": 88,
   "id": "17617677-f70a-4a01-b04e-7a072031f7ee",
   "metadata": {},
   "outputs": [],
   "source": [
    "# Revisión de categoría 8: No aplica para menores de 12 años\n",
    "df_rev_civil = df_suicide[df_suicide['edo_civil'] == 8].copy()"
   ]
  },
  {
   "cell_type": "code",
   "execution_count": 89,
   "id": "435b1620-3d03-442b-be82-97a5bd4aba09",
   "metadata": {},
   "outputs": [
    {
     "data": {
      "text/plain": [
       "145"
      ]
     },
     "execution_count": 89,
     "metadata": {},
     "output_type": "execute_result"
    }
   ],
   "source": [
    "len(df_rev_civil)"
   ]
  },
  {
   "cell_type": "code",
   "execution_count": 90,
   "id": "ea48be86-7426-4695-83f4-e001c557cb6c",
   "metadata": {},
   "outputs": [
    {
     "data": {
      "text/plain": [
       "145"
      ]
     },
     "execution_count": 90,
     "metadata": {},
     "output_type": "execute_result"
    }
   ],
   "source": [
    "# Casos con edad menor a 12\n",
    "df_rev_civil[df_rev_civil['age_final'] < 12].shape[0]"
   ]
  },
  {
   "cell_type": "code",
   "execution_count": 91,
   "id": "a488a717-b246-4650-831d-0245605c7b66",
   "metadata": {},
   "outputs": [
    {
     "data": {
      "text/plain": [
       "145"
      ]
     },
     "execution_count": 91,
     "metadata": {},
     "output_type": "execute_result"
    }
   ],
   "source": [
    "len(df_suicide[df_suicide['age_final']<12]) # En efecto, hay 145 casos con edad menor a 12 años."
   ]
  },
  {
   "cell_type": "code",
   "execution_count": 92,
   "id": "ec7dc847-253f-4221-aba5-e5c453fb9b95",
   "metadata": {},
   "outputs": [],
   "source": [
    "# Reclasificación de la categoría 8:1\n",
    "df_suicide.loc[df_suicide['edo_civil'] == 8, 'edo_civil'] = 1"
   ]
  },
  {
   "cell_type": "code",
   "execution_count": 93,
   "id": "3558b05f-cd6b-4f73-8c32-6e50a271a151",
   "metadata": {},
   "outputs": [],
   "source": [
    "cont_table_civil_perc = pd.crosstab(index = df_suicide['edo_civil'], columns = df_suicide['year_db'], normalize='columns')\n",
    "cont_table_civil_perc = (cont_table_civil_perc * 100).round(2)"
   ]
  },
  {
   "cell_type": "code",
   "execution_count": 94,
   "id": "c2565ec7-baf6-4ef6-8064-cf9a94b7a2db",
   "metadata": {},
   "outputs": [
    {
     "data": {
      "text/html": [
       "<div>\n",
       "<style scoped>\n",
       "    .dataframe tbody tr th:only-of-type {\n",
       "        vertical-align: middle;\n",
       "    }\n",
       "\n",
       "    .dataframe tbody tr th {\n",
       "        vertical-align: top;\n",
       "    }\n",
       "\n",
       "    .dataframe thead th {\n",
       "        text-align: right;\n",
       "    }\n",
       "</style>\n",
       "<table border=\"1\" class=\"dataframe\">\n",
       "  <thead>\n",
       "    <tr style=\"text-align: right;\">\n",
       "      <th>year_db</th>\n",
       "      <th>2020</th>\n",
       "      <th>2021</th>\n",
       "      <th>2022</th>\n",
       "      <th>2023</th>\n",
       "    </tr>\n",
       "    <tr>\n",
       "      <th>edo_civil</th>\n",
       "      <th></th>\n",
       "      <th></th>\n",
       "      <th></th>\n",
       "      <th></th>\n",
       "    </tr>\n",
       "  </thead>\n",
       "  <tbody>\n",
       "    <tr>\n",
       "      <th>1</th>\n",
       "      <td>47.45</td>\n",
       "      <td>46.82</td>\n",
       "      <td>47.96</td>\n",
       "      <td>50.34</td>\n",
       "    </tr>\n",
       "    <tr>\n",
       "      <th>2</th>\n",
       "      <td>2.47</td>\n",
       "      <td>2.28</td>\n",
       "      <td>2.56</td>\n",
       "      <td>2.30</td>\n",
       "    </tr>\n",
       "    <tr>\n",
       "      <th>3</th>\n",
       "      <td>1.66</td>\n",
       "      <td>1.93</td>\n",
       "      <td>1.70</td>\n",
       "      <td>1.63</td>\n",
       "    </tr>\n",
       "    <tr>\n",
       "      <th>4</th>\n",
       "      <td>18.43</td>\n",
       "      <td>18.04</td>\n",
       "      <td>18.13</td>\n",
       "      <td>18.18</td>\n",
       "    </tr>\n",
       "    <tr>\n",
       "      <th>5</th>\n",
       "      <td>21.24</td>\n",
       "      <td>22.02</td>\n",
       "      <td>21.13</td>\n",
       "      <td>19.22</td>\n",
       "    </tr>\n",
       "    <tr>\n",
       "      <th>6</th>\n",
       "      <td>1.66</td>\n",
       "      <td>1.73</td>\n",
       "      <td>1.53</td>\n",
       "      <td>1.93</td>\n",
       "    </tr>\n",
       "    <tr>\n",
       "      <th>9</th>\n",
       "      <td>7.09</td>\n",
       "      <td>7.19</td>\n",
       "      <td>7.00</td>\n",
       "      <td>6.39</td>\n",
       "    </tr>\n",
       "  </tbody>\n",
       "</table>\n",
       "</div>"
      ],
      "text/plain": [
       "year_db     2020   2021   2022   2023\n",
       "edo_civil                            \n",
       "1          47.45  46.82  47.96  50.34\n",
       "2           2.47   2.28   2.56   2.30\n",
       "3           1.66   1.93   1.70   1.63\n",
       "4          18.43  18.04  18.13  18.18\n",
       "5          21.24  22.02  21.13  19.22\n",
       "6           1.66   1.73   1.53   1.93\n",
       "9           7.09   7.19   7.00   6.39"
      ]
     },
     "execution_count": 94,
     "metadata": {},
     "output_type": "execute_result"
    }
   ],
   "source": [
    "cont_table_civil_perc"
   ]
  },
  {
   "cell_type": "code",
   "execution_count": 95,
   "id": "3725d0f2-b47d-4778-a55f-22de37899c7d",
   "metadata": {},
   "outputs": [
    {
     "data": {
      "image/png": "[encoded data removed]",
      "text/plain": [
       "<Figure size 1000x600 with 1 Axes>"
      ]
     },
     "metadata": {},
     "output_type": "display_data"
    }
   ],
   "source": [
    "# Visualización\n",
    "conteo_edo_civil = df_suicide['edo_civil'].value_counts().reset_index()\n",
    "conteo_edo_civil.columns = ['Estado_Civil', 'Conteo']\n",
    "\n",
    "conteo_edo_civil = conteo_edo_civil.sort_values(by='Conteo', ascending=False)\n",
    "\n",
    "# Distribución porcentual general\n",
    "total_casos = df_suicide.shape[0]\n",
    "\n",
    "conteo_edo_civil['Proporcion'] = conteo_edo_civil['Conteo'] / total_casos\n",
    "conteo_edo_civil['Porcentaje'] = (conteo_edo_civil['Proporcion'] * 100).round(1) \n",
    "\n",
    "# Remapeo de categorías\n",
    "mapeo_edo_civil = {\n",
    "    1: 'Soltero',       # Incluye Soltero original y los casos de Código 8\n",
    "    2: 'Divorciado',\n",
    "    3: 'Viudo',\n",
    "    4: 'Unión libre',\n",
    "    5: 'Casado',\n",
    "    6: 'Separado',\n",
    "    9: 'No_Especificado' \n",
    "}\n",
    "\n",
    "conteo_edo_civil['Estado_Civil'] = conteo_edo_civil['Estado_Civil'].map(mapeo_edo_civil)\n",
    "\n",
    "plt.figure(figsize=(10, 6))\n",
    "\n",
    "# Gráfico de barras\n",
    "ax = sn.barplot(\n",
    "    data=conteo_edo_civil, \n",
    "    x='Estado_Civil', \n",
    "    y='Conteo', \n",
    "    hue = 'Estado_Civil',\n",
    "    palette='viridis',\n",
    "    legend = False\n",
    ")\n",
    "\n",
    "# Etiquetas\n",
    "for index, row in conteo_edo_civil.iterrows():\n",
    "    ax.text(\n",
    "        index, \n",
    "        row['Conteo'] + 50, \n",
    "        f\"{row['Porcentaje']}%\", \n",
    "        color='black', \n",
    "        ha=\"center\",     \n",
    "        fontsize=10,\n",
    "        weight='bold'\n",
    "    )\n",
    "\n",
    "# Featuring\n",
    "plt.title('Distribución de suicidios por estado civil', fontsize=16, weight='bold')\n",
    "plt.xlabel('Estado civil', fontsize=12)\n",
    "plt.ylabel('Número de casos', fontsize=12)\n",
    "plt.xticks(rotation=45, ha='right') \n",
    "plt.grid(axis='y', linestyle='--', alpha=0.4)\n",
    "plt.tight_layout() \n",
    "\n",
    "plt.show()"
   ]
  },
  {
   "cell_type": "markdown",
   "id": "38b0e864-41ad-4eff-9d80-7c97788d48e1",
   "metadata": {
    "jp-MarkdownHeadingCollapsed": true
   },
   "source": [
    "## 03.4. Revisión de derechohab"
   ]
  },
  {
   "cell_type": "code",
   "execution_count": 96,
   "id": "8d6fb5e6-dd4f-426e-85c8-ba782ab3d91d",
   "metadata": {},
   "outputs": [
    {
     "data": {
      "text/plain": [
       "derechohab\n",
       "1     0.465163\n",
       "99    0.272784\n",
       "2     0.178854\n",
       "7     0.042269\n",
       "3     0.019797\n",
       "8     0.012811\n",
       "9     0.003091\n",
       "5     0.002616\n",
       "4     0.001367\n",
       "6     0.000654\n",
       "10    0.000594\n",
       "Name: proportion, dtype: float64"
      ]
     },
     "execution_count": 96,
     "metadata": {},
     "output_type": "execute_result"
    }
   ],
   "source": [
    "df_suicide['derechohab'].value_counts(1)"
   ]
  },
  {
   "cell_type": "code",
   "execution_count": 97,
   "id": "42c052f0-eee2-4ea0-9765-a1cae2cafdad",
   "metadata": {},
   "outputs": [],
   "source": [
    "# Reclasificación: 1 -> No afiliado | 99 -> No especificado | Resto -> Afiliado\n",
    "def agrup_derechohab(code):\n",
    "    if code == 1:\n",
    "        return 'No Afiliado'\n",
    "    elif code == 99:\n",
    "        return 'No Especificado'\n",
    "    else:\n",
    "        return 'Afiliado'"
   ]
  },
  {
   "cell_type": "code",
   "execution_count": 98,
   "id": "17910c31-f3b7-43b2-bc6c-7ed7929e1f75",
   "metadata": {},
   "outputs": [
    {
     "name": "stdout",
     "output_type": "stream",
     "text": [
      "Distribución final de drechohabiencia:\n",
      "derechohab_agrup\n",
      "No Afiliado        46.5\n",
      "No Especificado    27.3\n",
      "Afiliado           26.2\n",
      "Name: proportion, dtype: float64\n"
     ]
    }
   ],
   "source": [
    "df_suicide['derechohab_agrup'] = df_suicide['derechohab'].apply(agrup_derechohab)\n",
    "\n",
    "# Validación\n",
    "print(\"Distribución final de drechohabiencia:\")\n",
    "print(df_suicide['derechohab_agrup'].value_counts(normalize=True).round(3) * 100)"
   ]
  },
  {
   "cell_type": "code",
   "execution_count": 99,
   "id": "d20728d3-d607-458a-8029-3f800f9c9286",
   "metadata": {},
   "outputs": [],
   "source": [
    "# Estructuración para la visualización\n",
    "# Conteo por categoría\n",
    "conteo_derechohab = df_suicide['derechohab_agrup'].value_counts().reset_index()\n",
    "conteo_derechohab.columns = ['Derechohabiencia', 'Conteo']\n",
    "\n",
    "# Distribución porcentual\n",
    "conteo_derechohab['Porcentaje'] = (conteo_derechohab['Conteo'] / total_casos * 100).round(1)\n",
    "\n",
    "# Reordenamiento\n",
    "orden_cat = ['No Afiliado', 'No Especificado', 'Afiliado']\n",
    "conteo_derechohab['Derechohabiencia'] = pd.Categorical(conteo_derechohab['Derechohabiencia'], categories=orden_cat, ordered=True)\n",
    "conteo_derechohab = conteo_derechohab.sort_values('Derechohabiencia')"
   ]
  },
  {
   "cell_type": "code",
   "execution_count": 100,
   "id": "9f656b82-10d3-404f-91cf-02d89460da26",
   "metadata": {},
   "outputs": [
    {
     "data": {
      "image/png": "[encoded data removed]",
      "text/plain": [
       "<Figure size 800x600 with 1 Axes>"
      ]
     },
     "metadata": {},
     "output_type": "display_data"
    }
   ],
   "source": [
    "# Visualización \n",
    "plt.figure(figsize=(8, 6))\n",
    "\n",
    "# Gráfico de Barras\n",
    "ax = sn.barplot(\n",
    "    data=conteo_derechohab, \n",
    "    x='Derechohabiencia', \n",
    "    y='Conteo', \n",
    "    hue='Derechohabiencia', \n",
    "    palette='mako',\n",
    "    legend=False\n",
    ")\n",
    "\n",
    "# Etiquetas\n",
    "for index, row in conteo_derechohab.iterrows():\n",
    "    ax.text(\n",
    "        index, \n",
    "        row['Conteo'] + 50, \n",
    "        f\"{row['Porcentaje']}%\", \n",
    "        color='black', \n",
    "        ha=\"center\",       \n",
    "        fontsize=10,\n",
    "        weight='bold'\n",
    "    )\n",
    "\n",
    "# Featuring\n",
    "plt.title('Distribución de suicidios por estatus de afiliación', fontsize=14, weight='bold')\n",
    "plt.xlabel('Estatus de afiliación a servicios sociales', fontsize=12)\n",
    "plt.ylabel('Número de casos', fontsize=12)\n",
    "plt.xticks(rotation=0, ha='center') \n",
    "plt.grid(axis='y', linestyle='--', alpha=0.4)\n",
    "plt.ylim(0, conteo_derechohab['Conteo'].max() * 1.1) \n",
    "plt.tight_layout()\n",
    "plt.show()"
   ]
  },
  {
   "cell_type": "markdown",
   "id": "b3f57a2a-3390-4d8b-8a4f-e24fc642eb47",
   "metadata": {},
   "source": [
    "## 03.5. Revisión de causa_def"
   ]
  },
  {
   "cell_type": "code",
   "execution_count": 101,
   "id": "a19cc2b1-1ff0-416a-9897-ce877d97e9d3",
   "metadata": {},
   "outputs": [
    {
     "data": {
      "text/plain": [
       "array(['X709', 'X700', 'X780', 'X704', 'X805', 'X708', 'X849', 'X689',\n",
       "       'X740', 'X841', 'X749', 'X730', 'X649', 'X619', 'X848', 'X705',\n",
       "       'X804', 'X718', 'X748', 'X699', 'X720', 'X809', 'X694', 'X690',\n",
       "       'X702', 'X707', 'X701', 'X724', 'X788', 'X789', 'X744', 'X706',\n",
       "       'X703', 'X786', 'X698', 'X697', 'X610', 'X824', 'X784', 'X640',\n",
       "       'X800', 'X680', 'X684', 'X688', 'X600', 'X670', 'X729', 'X783',\n",
       "       'X747', 'X647', 'X687', 'X760', 'X764', 'X745', 'X642', 'X654',\n",
       "       'X645', 'X828', 'X840', 'X660', 'X844', 'X808', 'X746', 'X815',\n",
       "       'X845', 'X842', 'X710', 'X644', 'X818', 'X714', 'X681', 'X659',\n",
       "       'X719', 'X787', 'X650', 'X695', 'X648', 'X691', 'X830', 'X696',\n",
       "       'X664', 'X802', 'X742', 'X834', 'X769', 'X819', 'X620', 'X781',\n",
       "       'X629', 'X785', 'X668', 'X843', 'X618', 'X624', 'X669', 'X737',\n",
       "       'X727', 'X839', 'X829', 'X814', 'X728', 'X741', 'X847', 'X641',\n",
       "       'X810', 'X679', 'Y870', 'X846', 'X685', 'X615', 'X639', 'X801',\n",
       "       'X790', 'X831', 'X715', 'X799', 'X743', 'X750', 'X717', 'X693',\n",
       "       'X692', 'X678', 'X765', 'X768', 'X761', 'X739', 'X807', 'X674',\n",
       "       'X782', 'X609', 'X803', 'X646', 'X738', 'X682', 'X628', 'X635',\n",
       "       'X622', 'X835'], dtype=object)"
      ]
     },
     "execution_count": 101,
     "metadata": {},
     "output_type": "execute_result"
    }
   ],
   "source": [
    "df_suicide['causa_def'].unique()"
   ]
  },
  {
   "cell_type": "code",
   "execution_count": 102,
   "id": "83d382f7-4d5f-42be-a6a9-824fe0812250",
   "metadata": {},
   "outputs": [],
   "source": [
    "# Buscando la reducción de cardinalidad\n",
    "df_suicide['causa_def_reduc'] = df_suicide['causa_def'].astype(str)\n",
    "df_suicide['metodo_suicidio'] = df_suicide['causa_def_reduc'].str[:3] # Evitando tanta especificación"
   ]
  },
  {
   "cell_type": "code",
   "execution_count": 103,
   "id": "974df9c2-28ba-4f0c-8fc6-716806f61453",
   "metadata": {},
   "outputs": [
    {
     "name": "stdout",
     "output_type": "stream",
     "text": [
      "Códigos de método de suicidio agrupados (X60-X83):\n",
      "['X60', 'X61', 'X62', 'X63', 'X64', 'X65', 'X66', 'X67', 'X68', 'X69', 'X70', 'X71', 'X72', 'X73', 'X74', 'X75', 'X76', 'X78', 'X79', 'X80', 'X81', 'X82', 'X83', 'X84', 'Y87']\n"
     ]
    }
   ],
   "source": [
    "code_agrup = df_suicide['metodo_suicidio'].unique()\n",
    "print(\"Códigos de método de suicidio agrupados (X60-X83):\")\n",
    "print(sorted(code_agrup))"
   ]
  },
  {
   "cell_type": "code",
   "execution_count": 104,
   "id": "4a083de0-ef2e-4d9e-95ea-5ab63e88a403",
   "metadata": {},
   "outputs": [
    {
     "name": "stdout",
     "output_type": "stream",
     "text": [
      "   Codigo_CIE  Porcentaje\n",
      "0         X70        85.0\n",
      "1         X74         5.8\n",
      "2         X69         2.0\n",
      "3         X68         1.9\n",
      "4         X78         1.3\n",
      "5         X84         1.2\n",
      "6         X64         0.7\n",
      "7         X80         0.7\n",
      "8         X61         0.3\n",
      "9         X71         0.2\n",
      "10        X76         0.1\n",
      "11        X67         0.1\n",
      "12        X73         0.1\n",
      "13        X72         0.1\n",
      "14        X81         0.1\n",
      "15        X83         0.1\n",
      "16        X82         0.1\n",
      "17        X66         0.0\n",
      "18        X65         0.0\n",
      "19        X62         0.0\n",
      "20        X60         0.0\n",
      "21        Y87         0.0\n",
      "22        X63         0.0\n",
      "23        X79         0.0\n",
      "24        X75         0.0\n"
     ]
    }
   ],
   "source": [
    "dist_metodos = df_suicide['metodo_suicidio'].value_counts(normalize=True).mul(100).round(1).reset_index()\n",
    "dist_metodos.columns = ['Codigo_CIE', 'Porcentaje']\n",
    "print(dist_metodos)"
   ]
  },
  {
   "cell_type": "code",
   "execution_count": 105,
   "id": "270cd14a-6db1-419e-a6a5-4a7fede5fe58",
   "metadata": {},
   "outputs": [
    {
     "name": "stdout",
     "output_type": "stream",
     "text": [
      "Distribución de métodos de suicidio:\n",
      "metodo_suicidio\n",
      "Ahorcamiento     85.0\n",
      "Otros_Metodos    15.0\n",
      "Name: proportion, dtype: float64\n"
     ]
    }
   ],
   "source": [
    "# Reclasificación en 3 ategorías:\n",
    "def agrup_metodo(code):\n",
    "    if code == 'X70':\n",
    "        return 'Ahorcamiento'\n",
    "    else:\n",
    "        return 'Otros_Metodos'# Esto incluye X60-X69 (Veneno), X78 (Objetos punzocortantes), X84 (Sin especificar), etc.\n",
    "\n",
    "df_suicide['metodo_suicidio'] = df_suicide['metodo_suicidio'].apply(agrup_metodo)\n",
    "\n",
    "# Validación\n",
    "print(\"Distribución de métodos de suicidio:\")\n",
    "print(df_suicide['metodo_suicidio'].value_counts(normalize=True).round(3) * 100)"
   ]
  },
  {
   "cell_type": "code",
   "execution_count": 106,
   "id": "e52fb018-3cb1-444f-b5ca-c3eefd7eebcc",
   "metadata": {},
   "outputs": [],
   "source": [
    "# Configuración para visualización\n",
    "conteo_metodo = df_suicide['metodo_suicidio'].value_counts().reset_index()\n",
    "conteo_metodo.columns = ['Metodo', 'Conteo']\n",
    "\n",
    "conteo_metodo['Porcentaje'] = (conteo_metodo['Conteo'] / total_casos * 100).round(1)\n",
    "\n",
    "# Reordenamiento\n",
    "conteo_metodo = conteo_metodo.sort_values(by='Conteo', ascending=False)"
   ]
  },
  {
   "cell_type": "code",
   "execution_count": 107,
   "id": "982eb584-d18b-49f5-b81a-8fa481a8d38b",
   "metadata": {},
   "outputs": [
    {
     "data": {
      "image/png": "[encoded data removed]",
      "text/plain": [
       "<Figure size 800x600 with 1 Axes>"
      ]
     },
     "metadata": {},
     "output_type": "display_data"
    }
   ],
   "source": [
    "# Visualización\n",
    "plt.figure(figsize=(8, 6))\n",
    "\n",
    "# Gráfico de Barras\n",
    "ax = sn.barplot(\n",
    "    data=conteo_metodo, \n",
    "    x='Metodo', \n",
    "    y='Conteo', \n",
    "    hue='Metodo', \n",
    "    palette='magma', \n",
    "    legend=False\n",
    ")\n",
    "\n",
    "# Etiquetas porcentuales\n",
    "for index, row in conteo_metodo.iterrows():\n",
    "    ax.text(\n",
    "        index, \n",
    "        row['Conteo'] + 100, \n",
    "        f\"{row['Porcentaje']}%\", \n",
    "        color='black', \n",
    "        ha=\"center\",       \n",
    "        fontsize=10,\n",
    "        weight='bold'\n",
    "    )\n",
    "\n",
    "# Personalización\n",
    "plt.title('Distribución de suicidios por método', fontsize=14, weight='bold')\n",
    "plt.xlabel('Método de suicidio', fontsize=12)\n",
    "plt.ylabel('Número de casos', fontsize=12)\n",
    "plt.grid(axis='y', linestyle='--', alpha=0.4)\n",
    "plt.ylim(0, conteo_metodo['Conteo'].max() * 1.05) \n",
    "plt.tight_layout()\n",
    "plt.show()"
   ]
  },
  {
   "cell_type": "markdown",
   "id": "52e9f60a-f445-45a9-a33e-921e12964ef9",
   "metadata": {
    "jp-MarkdownHeadingCollapsed": true
   },
   "source": [
    "## 03.6. Revisión de area_ur"
   ]
  },
  {
   "cell_type": "code",
   "execution_count": 108,
   "id": "aa83aabf-5367-49f7-85ea-8ce78cd69b9b",
   "metadata": {},
   "outputs": [
    {
     "data": {
      "text/plain": [
       "area_ur\n",
       "1    0.80780\n",
       "2    0.16417\n",
       "9    0.02803\n",
       "Name: proportion, dtype: float64"
      ]
     },
     "execution_count": 108,
     "metadata": {},
     "output_type": "execute_result"
    }
   ],
   "source": [
    "df_suicide['area_ur'].value_counts(1)"
   ]
  },
  {
   "cell_type": "markdown",
   "id": "12b8ec3e-1468-42f2-927b-ee8d87f77dc0",
   "metadata": {},
   "source": [
    "Dado que la categoría 9:No especificado representa sólo el 2.8%, para evitar generar ruido en el modelo, se reclasificará como 1 (urbana) al ser éste valor la moda de la distribución"
   ]
  },
  {
   "cell_type": "code",
   "execution_count": 109,
   "id": "2e615139-64c1-47c2-894f-6ccfac549659",
   "metadata": {},
   "outputs": [
    {
     "name": "stdout",
     "output_type": "stream",
     "text": [
      "Distribución del tipo de residencia habitual:\n",
      "area_urbana\n",
      "Urbana    83.6\n",
      "Rural     16.4\n",
      "Name: proportion, dtype: float64\n"
     ]
    }
   ],
   "source": [
    "# Imputación\n",
    "df_suicide.loc[df_suicide['area_ur'] == 9, 'area_ur'] = 1\n",
    "\n",
    "# Remapeo\n",
    "mapeo_area = {\n",
    "    1: 'Urbana',\n",
    "    2: 'Rural'\n",
    "}\n",
    "df_suicide['area_urbana'] = df_suicide['area_ur'].map(mapeo_area)\n",
    "\n",
    "# Distribución \n",
    "print(\"Distribución del tipo de residencia habitual:\")\n",
    "print(df_suicide['area_urbana'].value_counts(normalize=True).round(3) * 100)"
   ]
  },
  {
   "cell_type": "code",
   "execution_count": 110,
   "id": "3a5fe326-989c-4ee9-ac5b-f4f4e2a09652",
   "metadata": {},
   "outputs": [],
   "source": [
    "# Configuración para visualización\n",
    "conteo_area = df_suicide['area_urbana'].value_counts().reset_index()\n",
    "conteo_area.columns = ['Area', 'Conteo']\n",
    "\n",
    "# Distribución porcentual\n",
    "conteo_area['Porcentaje'] = (conteo_area['Conteo'] / total_casos * 100).round(1)\n",
    "\n",
    "# Labels\n",
    "labels = conteo_area['Area']\n",
    "sizes = conteo_area['Conteo']\n",
    "\n",
    "# Etiquetas\n",
    "porcentajes_labels = [f'{label} ({size}%)' for label, size in zip(labels, conteo_area['Porcentaje'])]"
   ]
  },
  {
   "cell_type": "code",
   "execution_count": 111,
   "id": "4f57d469-a91a-4652-a066-f1f8d45c845f",
   "metadata": {},
   "outputs": [
    {
     "data": {
      "image/png": "[encoded data removed]",
      "text/plain": [
       "<Figure size 700x700 with 1 Axes>"
      ]
     },
     "metadata": {},
     "output_type": "display_data"
    }
   ],
   "source": [
    "# Visualización\n",
    "plt.figure(figsize=(7, 7))\n",
    "\n",
    "plt.pie(\n",
    "    sizes, \n",
    "    labels=porcentajes_labels,\n",
    "    colors=['#83A2AA', '#425B61'], \n",
    "    autopct='',\n",
    "    startangle=90,\n",
    "    wedgeprops={'edgecolor': 'white', 'linewidth': 2, 'antialiased': True}\n",
    ")\n",
    "\n",
    "plt.title('Distribución de suicidios por tipo de área de residencia', fontsize=16, weight='bold')\n",
    "plt.tight_layout()\n",
    "plt.show()"
   ]
  },
  {
   "cell_type": "markdown",
   "id": "3cb425a5-ead3-467e-ad37-67b2feaa3378",
   "metadata": {
    "jp-MarkdownHeadingCollapsed": true
   },
   "source": [
    "## 03.7. Revisión de lugar_ocur"
   ]
  },
  {
   "cell_type": "code",
   "execution_count": 112,
   "id": "bd72ead0-4b38-4a45-a17a-b917b415c7b2",
   "metadata": {},
   "outputs": [
    {
     "data": {
      "text/plain": [
       "lugar_ocur\n",
       "0    0.697818\n",
       "9    0.107960\n",
       "8    0.083051\n",
       "4    0.059212\n",
       "7    0.024166\n",
       "5    0.009363\n",
       "1    0.009185\n",
       "6    0.004251\n",
       "2    0.003240\n",
       "3    0.001754\n",
       "Name: proportion, dtype: float64"
      ]
     },
     "execution_count": 112,
     "metadata": {},
     "output_type": "execute_result"
    }
   ],
   "source": [
    "df_suicide['lugar_ocur'].value_counts(1)"
   ]
  },
  {
   "cell_type": "code",
   "execution_count": 113,
   "id": "5cee4f03-d84d-4ac4-91f2-e7643211bed9",
   "metadata": {},
   "outputs": [
    {
     "name": "stdout",
     "output_type": "stream",
     "text": [
      "Distribución del lugar de ocurrencia:\n",
      "lugar_ocurrencia\n",
      "Vivienda           69.8\n",
      "Otro lugar         19.4\n",
      "No_Especificado    10.8\n",
      "Name: proportion, dtype: float64\n"
     ]
    }
   ],
   "source": [
    "# Reducción de cardinalidad\n",
    "codigos_residuales = [1, 2, 3, 4, 5, 6, 7, 8] # lugares varios\n",
    "\n",
    "# Reclasificación\n",
    "def agrup_lugar_ocurr(code):\n",
    "    if code == 0:\n",
    "        return 'Vivienda'\n",
    "    elif code == 9:\n",
    "        return 'No_Especificado'\n",
    "    else:\n",
    "        return 'Otro lugar'\n",
    "\n",
    "df_suicide['lugar_ocurrencia'] = df_suicide['lugar_ocur'].apply(agrup_lugar_ocurr)\n",
    "\n",
    "# Validación\n",
    "print(\"Distribución del lugar de ocurrencia:\")\n",
    "print(df_suicide['lugar_ocurrencia'].value_counts(normalize=True).mul(100).round(1))"
   ]
  },
  {
   "cell_type": "code",
   "execution_count": 114,
   "id": "a535ae92-593f-4fec-9610-9b11443724cd",
   "metadata": {},
   "outputs": [],
   "source": [
    "# Configuración para visualización\n",
    "conteo_lugar_ocurr = df_suicide['lugar_ocurrencia'].value_counts().reset_index()\n",
    "conteo_lugar_ocurr.columns = ['Lugar', 'Conteo']\n",
    "\n",
    "# Distribución porcentual\n",
    "conteo_lugar_ocurr['Porcentaje'] = (conteo_lugar_ocurr['Conteo'] / total_casos * 100).round(1)\n",
    "\n",
    "# Reordenamiento\n",
    "orden_lugar = ['Vivienda', 'Otro lugar', 'No_Especificado']\n",
    "conteo_lugar_ocurr['Lugar'] = pd.Categorical(conteo_lugar_ocurr['Lugar'], categories=orden_lugar, ordered=True)\n",
    "conteo_lugar_ocurr = conteo_lugar_ocurr.sort_values('Lugar')"
   ]
  },
  {
   "cell_type": "code",
   "execution_count": 115,
   "id": "cb6425ff-80ff-41b9-83e6-d21b4ddc8a45",
   "metadata": {},
   "outputs": [
    {
     "data": {
      "image/png": "[encoded data removed]",
      "text/plain": [
       "<Figure size 900x600 with 1 Axes>"
      ]
     },
     "metadata": {},
     "output_type": "display_data"
    }
   ],
   "source": [
    "# Visualización\n",
    "plt.figure(figsize=(9, 6))\n",
    "\n",
    "# Gráfico de Barras\n",
    "ax = sn.barplot(\n",
    "    data=conteo_lugar_ocurr, \n",
    "    x='Lugar', \n",
    "    y='Conteo', \n",
    "    hue='Lugar', \n",
    "    palette='magma',\n",
    "    legend=False\n",
    ")\n",
    "\n",
    "# Etiquetas\n",
    "for index, row in conteo_lugar_ocurr.iterrows():\n",
    "    ax.text(\n",
    "        index, \n",
    "        row['Conteo'] + 100, \n",
    "        f\"{row['Porcentaje']}%\", \n",
    "        color='black', \n",
    "        ha=\"center\",       \n",
    "        fontsize=10,\n",
    "        weight='bold'\n",
    "    )\n",
    "\n",
    "# Personalización\n",
    "plt.title('Distribución de suicidios por lugar de ocurrencia', fontsize=14, weight='bold')\n",
    "plt.xlabel('Lugar de ocurrencia', fontsize=12)\n",
    "plt.ylabel('Número de casos', fontsize=12)\n",
    "plt.grid(axis='y', linestyle='--', alpha=0.4)\n",
    "plt.ylim(0, conteo_lugar_ocurr['Conteo'].max() * 1.05) \n",
    "plt.tight_layout()\n",
    "plt.show()"
   ]
  },
  {
   "cell_type": "markdown",
   "id": "1ef09026-d821-4e72-a20e-3c602993860c",
   "metadata": {
    "jp-MarkdownHeadingCollapsed": true
   },
   "source": [
    "## 03.8. Revisión del sitio de ocurrencia"
   ]
  },
  {
   "cell_type": "code",
   "execution_count": 116,
   "id": "5424e534-41fd-4e81-bcdd-0374d4b1c718",
   "metadata": {},
   "outputs": [
    {
     "data": {
      "text/plain": [
       "sitio_ocur\n",
       "11    0.631532\n",
       "12    0.154420\n",
       "99    0.074282\n",
       "10    0.062868\n",
       "1     0.035075\n",
       "3     0.019440\n",
       "9     0.008650\n",
       "8     0.007996\n",
       "4     0.003091\n",
       "2     0.002110\n",
       "5     0.000297\n",
       "6     0.000178\n",
       "7     0.000059\n",
       "Name: proportion, dtype: float64"
      ]
     },
     "execution_count": 116,
     "metadata": {},
     "output_type": "execute_result"
    }
   ],
   "source": [
    "df_suicide['sitio_ocur'].value_counts(1)"
   ]
  },
  {
   "cell_type": "code",
   "execution_count": 117,
   "id": "b4a61d86-551f-486b-b06f-34cca14c9c04",
   "metadata": {},
   "outputs": [
    {
     "name": "stdout",
     "output_type": "stream",
     "text": [
      "Distribución del sitio de ocurrencia:\n",
      "sitio_ocurrencia\n",
      "Hogar              63.2\n",
      "No_especificado    22.9\n",
      "Unidad_medica       7.7\n",
      "Via_publica         6.3\n",
      "Name: proportion, dtype: float64\n"
     ]
    }
   ],
   "source": [
    "# Reducción de cardinalidad\n",
    "code_unidad_medica = [1, 2, 3, 4, 5, 6, 7, 8, 9]\n",
    "\n",
    "# Recodificación\n",
    "def agrup_sitio_ocur(code):\n",
    "    if code == 11:\n",
    "        return 'Hogar'\n",
    "    elif code == 10:\n",
    "        return 'Via_publica'\n",
    "    elif code in code_unidad_medica:\n",
    "        return 'Unidad_medica'\n",
    "    else:\n",
    "        # Por si existe algún otro valor\n",
    "        return 'No_especificado'\n",
    "\n",
    "df_suicide['sitio_ocurrencia'] = df_suicide['sitio_ocur'].apply(agrup_sitio_ocur)\n",
    "\n",
    "# Validación\n",
    "print(\"Distribución del sitio de ocurrencia:\")\n",
    "print(df_suicide['sitio_ocurrencia'].value_counts(normalize=True).mul(100).round(1))"
   ]
  },
  {
   "cell_type": "code",
   "execution_count": 118,
   "id": "660065b9-7367-4e8f-9881-22e0d8b9bae8",
   "metadata": {},
   "outputs": [],
   "source": [
    "# Configuración para visualización\n",
    "conteo_sitio_ocurr = df_suicide['sitio_ocurrencia'].value_counts().reset_index()\n",
    "conteo_sitio_ocurr.columns = ['Sitio', 'Conteo']\n",
    "\n",
    "# Distribución porcentual\n",
    "conteo_sitio_ocurr['Porcentaje'] = (conteo_sitio_ocurr['Conteo'] / total_casos * 100).round(1)\n",
    "\n",
    "# Reordenamiento\n",
    "orden_sitio = ['Hogar', 'No_especificado', 'Unidad_medica', 'Via_publica']\n",
    "conteo_sitio_ocurr['Sitio'] = pd.Categorical(conteo_sitio_ocurr['Sitio'], categories=orden_sitio, ordered=True)\n",
    "conteo_sitio_ocurr = conteo_sitio_ocurr.sort_values('Sitio')"
   ]
  },
  {
   "cell_type": "code",
   "execution_count": 119,
   "id": "a736060f-8d22-4e26-a210-1b470953ed29",
   "metadata": {},
   "outputs": [
    {
     "data": {
      "text/html": [
       "<div>\n",
       "<style scoped>\n",
       "    .dataframe tbody tr th:only-of-type {\n",
       "        vertical-align: middle;\n",
       "    }\n",
       "\n",
       "    .dataframe tbody tr th {\n",
       "        vertical-align: top;\n",
       "    }\n",
       "\n",
       "    .dataframe thead th {\n",
       "        text-align: right;\n",
       "    }\n",
       "</style>\n",
       "<table border=\"1\" class=\"dataframe\">\n",
       "  <thead>\n",
       "    <tr style=\"text-align: right;\">\n",
       "      <th></th>\n",
       "      <th>Sitio</th>\n",
       "      <th>Conteo</th>\n",
       "      <th>Porcentaje</th>\n",
       "    </tr>\n",
       "  </thead>\n",
       "  <tbody>\n",
       "    <tr>\n",
       "      <th>0</th>\n",
       "      <td>Hogar</td>\n",
       "      <td>21246</td>\n",
       "      <td>63.2</td>\n",
       "    </tr>\n",
       "    <tr>\n",
       "      <th>1</th>\n",
       "      <td>No_especificado</td>\n",
       "      <td>7694</td>\n",
       "      <td>22.9</td>\n",
       "    </tr>\n",
       "    <tr>\n",
       "      <th>2</th>\n",
       "      <td>Unidad_medica</td>\n",
       "      <td>2587</td>\n",
       "      <td>7.7</td>\n",
       "    </tr>\n",
       "    <tr>\n",
       "      <th>3</th>\n",
       "      <td>Via_publica</td>\n",
       "      <td>2115</td>\n",
       "      <td>6.3</td>\n",
       "    </tr>\n",
       "  </tbody>\n",
       "</table>\n",
       "</div>"
      ],
      "text/plain": [
       "             Sitio  Conteo  Porcentaje\n",
       "0            Hogar   21246        63.2\n",
       "1  No_especificado    7694        22.9\n",
       "2    Unidad_medica    2587         7.7\n",
       "3      Via_publica    2115         6.3"
      ]
     },
     "execution_count": 119,
     "metadata": {},
     "output_type": "execute_result"
    }
   ],
   "source": [
    "conteo_sitio_ocurr"
   ]
  },
  {
   "cell_type": "code",
   "execution_count": 120,
   "id": "16e8ade8-1dae-47c6-92f5-368bfa796424",
   "metadata": {},
   "outputs": [
    {
     "data": {
      "image/png": "[encoded data removed]",
      "text/plain": [
       "<Figure size 900x600 with 1 Axes>"
      ]
     },
     "metadata": {},
     "output_type": "display_data"
    }
   ],
   "source": [
    "# Visualización\n",
    "plt.figure(figsize=(9, 6))\n",
    "\n",
    "# Gráfico de Barras\n",
    "ax = sn.barplot(\n",
    "    data=conteo_sitio_ocurr, \n",
    "    x='Sitio', \n",
    "    y='Conteo', \n",
    "    hue='Sitio', \n",
    "    palette='plasma', \n",
    "    legend=False\n",
    ")\n",
    "\n",
    "# Etiquetas\n",
    "for index, row in conteo_sitio_ocurr.iterrows():\n",
    "    ax.text(\n",
    "        index, \n",
    "        row['Conteo'] + 100, \n",
    "        f\"{row['Porcentaje']}%\", \n",
    "        color='black', \n",
    "        ha=\"center\",       \n",
    "        fontsize=10,\n",
    "        weight='bold'\n",
    "    )\n",
    "\n",
    "# Personalización\n",
    "plt.title('Distribución de suicidios por sitio de ocurrencia', fontsize=14, weight='bold')\n",
    "plt.xlabel('Sitio de ocurrencia', fontsize=12)\n",
    "plt.ylabel('Número de casos', fontsize=12)\n",
    "plt.grid(axis='y', linestyle='--', alpha=0.4)\n",
    "plt.ylim(0, conteo_sitio_ocurr['Conteo'].max() * 1.05) \n",
    "plt.tight_layout()\n",
    "plt.show()"
   ]
  },
  {
   "cell_type": "markdown",
   "id": "1b534e77-3608-49aa-b5cb-44c51c92a835",
   "metadata": {
    "jp-MarkdownHeadingCollapsed": true
   },
   "source": [
    "## 03.9. Revisión escolaridad"
   ]
  },
  {
   "cell_type": "code",
   "execution_count": 121,
   "id": "d7834af1-7364-41fe-bd27-8963eb128b19",
   "metadata": {},
   "outputs": [
    {
     "data": {
      "text/plain": [
       "escolarida\n",
       "6     0.262678\n",
       "4     0.176565\n",
       "8     0.121842\n",
       "9     0.100143\n",
       "3     0.093663\n",
       "5     0.079692\n",
       "7     0.076363\n",
       "99    0.047411\n",
       "1     0.035640\n",
       "10    0.004964\n",
       "2     0.001040\n",
       "Name: proportion, dtype: float64"
      ]
     },
     "execution_count": 121,
     "metadata": {},
     "output_type": "execute_result"
    }
   ],
   "source": [
    "df_suicide['escolarida'].value_counts(1)"
   ]
  },
  {
   "cell_type": "code",
   "execution_count": 122,
   "id": "5ccf0af4-81dd-4561-8fbb-bb34f62ade7a",
   "metadata": {},
   "outputs": [
    {
     "name": "stdout",
     "output_type": "stream",
     "text": [
      "Distribución de suicidios por nivel educativo:\n",
      "escolaridad_agrup\n",
      "Media              46.1\n",
      "Basica             38.7\n",
      "Superior           10.5\n",
      "No_Especificado     4.7\n",
      "Name: proportion, dtype: float64\n"
     ]
    }
   ],
   "source": [
    "# Reducción de dimensionalidad\n",
    "map_escolaridad = {\n",
    "    # Educación Básica\n",
    "    1: 'Basica', 2: 'Basica', 3: 'Basica', 4: 'Basica', 5: 'Basica',\n",
    "    \n",
    "    # Educación Media\n",
    "    6: 'Media', 7: 'Media', 8: 'Media',\n",
    "    \n",
    "    # Educación Superior\n",
    "    9: 'Superior', 10: 'Superior',\n",
    "    \n",
    "    # No especificado\n",
    "    99: 'No_Especificado'\n",
    "}\n",
    "\n",
    "# Reclasificación\n",
    "df_suicide['escolaridad_agrup'] = df_suicide['escolarida'].map(map_escolaridad)\n",
    "\n",
    "# Validación\n",
    "print(\"Distribución de suicidios por nivel educativo:\")\n",
    "print(df_suicide['escolaridad_agrup'].value_counts(normalize=True).mul(100).round(1))"
   ]
  },
  {
   "cell_type": "code",
   "execution_count": 123,
   "id": "3a5693db-4e08-4612-b367-9941355d3551",
   "metadata": {},
   "outputs": [],
   "source": [
    "# Configuración para la visualización\n",
    "conteo_escolaridad = df_suicide['escolaridad_agrup'].value_counts().reset_index()\n",
    "conteo_escolaridad.columns = ['Nivel_Educativo', 'Conteo']\n",
    "\n",
    "conteo_escolaridad['Porcentaje'] = (conteo_escolaridad['Conteo'] / total_casos * 100).round(1)\n",
    "\n",
    "# Reordenamiento\n",
    "orden_esc = ['Media', 'Basica', 'Superior', 'No_Especificado']\n",
    "conteo_escolaridad['Nivel_Educativo'] = pd.Categorical(conteo_escolaridad['Nivel_Educativo'], categories=orden_esc, ordered=True)\n",
    "conteo_escolaridad = conteo_escolaridad.sort_values('Nivel_Educativo')"
   ]
  },
  {
   "cell_type": "code",
   "execution_count": 124,
   "id": "46036db5-5a72-447e-8082-22793f514946",
   "metadata": {},
   "outputs": [
    {
     "data": {
      "image/png": "[encoded data removed]",
      "text/plain": [
       "<Figure size 1000x600 with 1 Axes>"
      ]
     },
     "metadata": {},
     "output_type": "display_data"
    }
   ],
   "source": [
    "# Visualización\n",
    "plt.figure(figsize=(10, 6))\n",
    "\n",
    "# Gráfico de Barras\n",
    "ax = sn.barplot(\n",
    "    data=conteo_escolaridad, \n",
    "    x='Nivel_Educativo', \n",
    "    y='Conteo', \n",
    "    hue='Nivel_Educativo', \n",
    "    palette='viridis', \n",
    "    legend=False\n",
    ")\n",
    "\n",
    "# Etiquetas porcentuales\n",
    "for index, row in conteo_escolaridad.iterrows():\n",
    "    ax.text(\n",
    "        index, \n",
    "        row['Conteo'] + 100, \n",
    "        f\"{row['Porcentaje']}%\", \n",
    "        color='black', \n",
    "        ha=\"center\",       \n",
    "        fontsize=10,\n",
    "        weight='bold'\n",
    "    )\n",
    "\n",
    "# Personalización\n",
    "plt.title('Distribución de suicidios por nivel educativo', fontsize=14, weight='bold')\n",
    "plt.xlabel('Nivel de escolaridad', fontsize=12)\n",
    "plt.ylabel('Número de casos', fontsize=12)\n",
    "plt.xticks(rotation=0, ha='center') \n",
    "plt.grid(axis='y', linestyle='--', alpha=0.4)\n",
    "plt.ylim(0, conteo_escolaridad['Conteo'].max() * 1.05) \n",
    "plt.tight_layout()\n",
    "plt.show()"
   ]
  },
  {
   "cell_type": "markdown",
   "id": "141eb992-6e65-4191-9560-02680d248872",
   "metadata": {
    "jp-MarkdownHeadingCollapsed": true
   },
   "source": [
    "## 3.10. Revisión de horas/minutos"
   ]
  },
  {
   "cell_type": "code",
   "execution_count": 125,
   "id": "4d221a1f-f4c4-4edd-8a2d-a50fbd137f45",
   "metadata": {},
   "outputs": [
    {
     "data": {
      "text/plain": [
       "horas\n",
       "99    0.104572\n",
       "0     0.073896\n",
       "23    0.044914\n",
       "20    0.041674\n",
       "18    0.041525\n",
       "1     0.040931\n",
       "22    0.040872\n",
       "19    0.040158\n",
       "12    0.038672\n",
       "21    0.037929\n",
       "17    0.036829\n",
       "16    0.035967\n",
       "14    0.035729\n",
       "2     0.035551\n",
       "13    0.035402\n",
       "15    0.034451\n",
       "11    0.034035\n",
       "10    0.033084\n",
       "3     0.032846\n",
       "6     0.032311\n",
       "8     0.031895\n",
       "5     0.030884\n",
       "9     0.030200\n",
       "4     0.028595\n",
       "7     0.027079\n",
       "Name: proportion, dtype: float64"
      ]
     },
     "execution_count": 125,
     "metadata": {},
     "output_type": "execute_result"
    }
   ],
   "source": [
    "df_suicide['horas'].value_counts(1)"
   ]
  },
  {
   "cell_type": "code",
   "execution_count": 126,
   "id": "f2f7770e-afae-41de-a1da-7fdfc8829648",
   "metadata": {},
   "outputs": [
    {
     "data": {
      "text/plain": [
       "minutos\n",
       "0     0.460020\n",
       "30    0.149694\n",
       "99    0.104572\n",
       "20    0.028952\n",
       "40    0.028595\n",
       "        ...   \n",
       "31    0.001486\n",
       "39    0.001308\n",
       "54    0.001308\n",
       "41    0.001159\n",
       "51    0.001070\n",
       "Name: proportion, Length: 61, dtype: float64"
      ]
     },
     "execution_count": 126,
     "metadata": {},
     "output_type": "execute_result"
    }
   ],
   "source": [
    "df_suicide['minutos'].value_counts(1)"
   ]
  },
  {
   "cell_type": "code",
   "execution_count": 127,
   "id": "57c0b7d1-1a0d-4652-b748-e746f7a05914",
   "metadata": {},
   "outputs": [
    {
     "name": "stdout",
     "output_type": "stream",
     "text": [
      "Distribución de suicidios por riesgo horario:\n",
      "ciclo_horario\n",
      "Noche (18-23)        24.7\n",
      "Madrugada (00-05)    24.3\n",
      "Tarde (12-17)        21.7\n",
      "Mañana (06-11)       18.9\n",
      "No_Especificado      10.5\n",
      "Name: proportion, dtype: float64\n"
     ]
    }
   ],
   "source": [
    "# Identificación de casos No Especificado y reemplazo por Na para facilitar cálculos\n",
    "horas_limpia = df_suicide['horas'].replace(99, np.nan)\n",
    "minutos_limpia = df_suicide['minutos'].replace(99, np.nan)\n",
    "\n",
    "# Cálculo de la hora completa\n",
    "df_suicide['hora_decimal'] = horas_limpia + minutos_limpia / 60\n",
    "\n",
    "# Definición de cotas para los grupos (basado en el ciclo circadiano)\n",
    "bins = [0, 6, 12, 18, 24]\n",
    "labels = ['Madrugada (00-05)', 'Mañana (06-11)', 'Tarde (12-17)', 'Noche (18-23)']\n",
    "\n",
    "# Reclasificación en ciclos\n",
    "df_suicide['ciclo_horario'] = pd.cut(\n",
    "    df_suicide['hora_decimal'], \n",
    "    bins=bins, \n",
    "    labels=labels, \n",
    "    right=False, \n",
    "    include_lowest=True\n",
    ")\n",
    "\n",
    "# Casos No Especificado\n",
    "df_suicide['ciclo_horario'] = df_suicide['ciclo_horario'].cat.add_categories('No_Especificado').fillna('No_Especificado')\n",
    "\n",
    "# Validación\n",
    "print(\"Distribución de suicidios por riesgo horario:\")\n",
    "print(df_suicide['ciclo_horario'].value_counts(normalize=True).mul(100).round(1))"
   ]
  },
  {
   "cell_type": "code",
   "execution_count": 128,
   "id": "8b054402-1de3-4b3d-b2f1-c296745d3515",
   "metadata": {},
   "outputs": [],
   "source": [
    "# Preparación para visualización\n",
    "conteo_ciclo = df_suicide['ciclo_horario'].value_counts().reset_index()\n",
    "conteo_ciclo.columns = ['Ciclo_Horario', 'Conteo']\n",
    "\n",
    "conteo_ciclo['Porcentaje'] = (conteo_ciclo['Conteo'] / total_casos * 100).round(1)\n",
    "\n",
    "# Reordenamiento\n",
    "orden_ciclo = ['Noche (18-23)', 'Madrugada (00-05)', 'Tarde (12-17)', 'Mañana (06-11)', 'No_Especificado']\n",
    "conteo_ciclo['Ciclo_Horario'] = pd.Categorical(conteo_ciclo['Ciclo_Horario'], categories=orden_ciclo, ordered=True)\n",
    "conteo_ciclo = conteo_ciclo.sort_values('Ciclo_Horario') "
   ]
  },
  {
   "cell_type": "code",
   "execution_count": 129,
   "id": "481ad1a0-64f8-4e3d-a3f5-67635f41f06e",
   "metadata": {},
   "outputs": [
    {
     "data": {
      "image/png": "[encoded data removed]",
      "text/plain": [
       "<Figure size 1200x600 with 1 Axes>"
      ]
     },
     "metadata": {},
     "output_type": "display_data"
    }
   ],
   "source": [
    "# Visualización\n",
    "plt.figure(figsize=(12, 6))\n",
    "\n",
    "# Generamos una paleta con 5 colores distintos\n",
    "paleta_personalizada = sn.color_palette(\"plasma\", n_colors=5)\n",
    "\n",
    "ax = sn.barplot(\n",
    "    data=conteo_ciclo, \n",
    "    x='Ciclo_Horario', \n",
    "    y='Conteo', \n",
    "    hue='Ciclo_Horario',\n",
    "    palette=paleta_personalizada,\n",
    ")\n",
    "\n",
    "# Etiquetas\n",
    "for index, row in conteo_ciclo.iterrows():\n",
    "    ax.text(\n",
    "        index, \n",
    "        row['Conteo'] + 100, \n",
    "        f\"{row['Porcentaje']}%\", \n",
    "        color='black', \n",
    "        ha=\"center\",       \n",
    "        fontsize=10,\n",
    "        weight='bold'\n",
    "    )\n",
    "\n",
    "# Featuring\n",
    "plt.title('Distribución de suicidios por riesgo horario', fontsize=14, weight='bold')\n",
    "plt.xlabel('Horario de ocurrencia', fontsize=12)\n",
    "plt.ylabel('Número de casos', fontsize=12)\n",
    "plt.grid(axis='y', linestyle='--', alpha=0.4)\n",
    "plt.ylim(0, conteo_ciclo['Conteo'].max() * 1.05) \n",
    "plt.tight_layout()\n",
    "plt.show()"
   ]
  },
  {
   "cell_type": "markdown",
   "id": "48de2d89-4dbd-4876-aa60-de5872a548bb",
   "metadata": {},
   "source": [
    "## 03.11. Revisión de ocupación"
   ]
  },
  {
   "cell_type": "code",
   "execution_count": 130,
   "id": "6e4c1828-bca3-4a5a-94d5-6b687f82ba96",
   "metadata": {},
   "outputs": [],
   "source": [
    "cont_table_ocup = pd.crosstab(index = df_suicide['ocupacion'], columns = df_suicide['year_db'])\n",
    "cont_table_ocup['Total'] = cont_table_ocup.sum(axis = 1)"
   ]
  },
  {
   "cell_type": "code",
   "execution_count": 131,
   "id": "3336bb88-3f8e-457a-b438-c01c9fdf4bb7",
   "metadata": {},
   "outputs": [
    {
     "data": {
      "text/html": [
       "<div>\n",
       "<style scoped>\n",
       "    .dataframe tbody tr th:only-of-type {\n",
       "        vertical-align: middle;\n",
       "    }\n",
       "\n",
       "    .dataframe tbody tr th {\n",
       "        vertical-align: top;\n",
       "    }\n",
       "\n",
       "    .dataframe thead th {\n",
       "        text-align: right;\n",
       "    }\n",
       "</style>\n",
       "<table border=\"1\" class=\"dataframe\">\n",
       "  <thead>\n",
       "    <tr style=\"text-align: right;\">\n",
       "      <th>year_db</th>\n",
       "      <th>2020</th>\n",
       "      <th>2021</th>\n",
       "      <th>2022</th>\n",
       "      <th>2023</th>\n",
       "      <th>Total</th>\n",
       "    </tr>\n",
       "    <tr>\n",
       "      <th>ocupacion</th>\n",
       "      <th></th>\n",
       "      <th></th>\n",
       "      <th></th>\n",
       "      <th></th>\n",
       "      <th></th>\n",
       "    </tr>\n",
       "  </thead>\n",
       "  <tbody>\n",
       "    <tr>\n",
       "      <th>1</th>\n",
       "      <td>36</td>\n",
       "      <td>38</td>\n",
       "      <td>0</td>\n",
       "      <td>0</td>\n",
       "      <td>74</td>\n",
       "    </tr>\n",
       "    <tr>\n",
       "      <th>2</th>\n",
       "      <td>397</td>\n",
       "      <td>427</td>\n",
       "      <td>0</td>\n",
       "      <td>0</td>\n",
       "      <td>824</td>\n",
       "    </tr>\n",
       "    <tr>\n",
       "      <th>3</th>\n",
       "      <td>57</td>\n",
       "      <td>62</td>\n",
       "      <td>0</td>\n",
       "      <td>0</td>\n",
       "      <td>119</td>\n",
       "    </tr>\n",
       "    <tr>\n",
       "      <th>4</th>\n",
       "      <td>489</td>\n",
       "      <td>599</td>\n",
       "      <td>0</td>\n",
       "      <td>0</td>\n",
       "      <td>1088</td>\n",
       "    </tr>\n",
       "    <tr>\n",
       "      <th>5</th>\n",
       "      <td>236</td>\n",
       "      <td>242</td>\n",
       "      <td>0</td>\n",
       "      <td>0</td>\n",
       "      <td>478</td>\n",
       "    </tr>\n",
       "    <tr>\n",
       "      <th>...</th>\n",
       "      <td>...</td>\n",
       "      <td>...</td>\n",
       "      <td>...</td>\n",
       "      <td>...</td>\n",
       "      <td>...</td>\n",
       "    </tr>\n",
       "    <tr>\n",
       "      <th>99</th>\n",
       "      <td>300</td>\n",
       "      <td>278</td>\n",
       "      <td>0</td>\n",
       "      <td>0</td>\n",
       "      <td>578</td>\n",
       "    </tr>\n",
       "    <tr>\n",
       "      <th>100</th>\n",
       "      <td>0</td>\n",
       "      <td>0</td>\n",
       "      <td>1</td>\n",
       "      <td>2</td>\n",
       "      <td>3</td>\n",
       "    </tr>\n",
       "    <tr>\n",
       "      <th>110</th>\n",
       "      <td>0</td>\n",
       "      <td>0</td>\n",
       "      <td>2406</td>\n",
       "      <td>2547</td>\n",
       "      <td>4953</td>\n",
       "    </tr>\n",
       "    <tr>\n",
       "      <th>998</th>\n",
       "      <td>0</td>\n",
       "      <td>0</td>\n",
       "      <td>1567</td>\n",
       "      <td>1539</td>\n",
       "      <td>3106</td>\n",
       "    </tr>\n",
       "    <tr>\n",
       "      <th>999</th>\n",
       "      <td>0</td>\n",
       "      <td>0</td>\n",
       "      <td>288</td>\n",
       "      <td>582</td>\n",
       "      <td>870</td>\n",
       "    </tr>\n",
       "  </tbody>\n",
       "</table>\n",
       "<p>66 rows × 5 columns</p>\n",
       "</div>"
      ],
      "text/plain": [
       "year_db    2020  2021  2022  2023  Total\n",
       "ocupacion                               \n",
       "1            36    38     0     0     74\n",
       "2           397   427     0     0    824\n",
       "3            57    62     0     0    119\n",
       "4           489   599     0     0   1088\n",
       "5           236   242     0     0    478\n",
       "...         ...   ...   ...   ...    ...\n",
       "99          300   278     0     0    578\n",
       "100           0     0     1     2      3\n",
       "110           0     0  2406  2547   4953\n",
       "998           0     0  1567  1539   3106\n",
       "999           0     0   288   582    870\n",
       "\n",
       "[66 rows x 5 columns]"
      ]
     },
     "execution_count": 131,
     "metadata": {},
     "output_type": "execute_result"
    }
   ],
   "source": [
    "cont_table_ocup"
   ]
  },
  {
   "cell_type": "code",
   "execution_count": 132,
   "id": "e5ac37bf-513e-410b-9b19-0e6ca6cbad1a",
   "metadata": {},
   "outputs": [
    {
     "name": "stdout",
     "output_type": "stream",
     "text": [
      "Subset 2020-2021: 16329\n",
      "Subset 2022-2023: 17313\n"
     ]
    }
   ],
   "source": [
    "# Separación para reclasificación\n",
    "df_2020_2021 = df_suicide[df_suicide['year_db'].isin([2020, 2021])].copy()\n",
    "df_2022_2023 = df_suicide[df_suicide['year_db'].isin([2022, 2023])].copy()\n",
    "\n",
    "print(f\"Subset 2020-2021: {df_2020_2021.shape[0]}\")\n",
    "print(f\"Subset 2022-2023: {df_2022_2023.shape[0]}\")"
   ]
  },
  {
   "cell_type": "code",
   "execution_count": 133,
   "id": "be2d0a4f-7b21-4a6c-a3b9-295ddbab799a",
   "metadata": {},
   "outputs": [],
   "source": [
    "# Reagrupación para 2020 y 2021\n",
    "def agrupar_ocup1(code):\n",
    "    if 1 <= code <= 9:\n",
    "        return 'Trabaja' # Con algún tipo de trabajo\n",
    "    elif code in [10, 11]: \n",
    "        return 'No_trabaja' # no trabaja o busca trabajo\n",
    "    elif code in [97, 98, 99]:\n",
    "        return 'No_especificado'\n",
    "    else:\n",
    "        # Por si nos queda algo de ruido\n",
    "        return 'No_especificado'"
   ]
  },
  {
   "cell_type": "code",
   "execution_count": 134,
   "id": "6a891d64-3998-4648-b40b-c1a1aff9b4b4",
   "metadata": {},
   "outputs": [
    {
     "name": "stdout",
     "output_type": "stream",
     "text": [
      "\n",
      "Distribución 2020-2021:\n",
      "ocupacion_agrup\n",
      "Trabaja            48.04\n",
      "No_trabaja         29.56\n",
      "No_especificado    22.40\n",
      "Name: proportion, dtype: float64\n"
     ]
    }
   ],
   "source": [
    "# Reclasificación 2020 y 2021\n",
    "df_2020_2021['ocupacion_agrup'] = df_2020_2021['ocupacion'].apply(agrupar_ocup1)\n",
    "\n",
    "print(\"\\nDistribución 2020-2021:\")\n",
    "print(df_2020_2021['ocupacion_agrup'].value_counts(normalize=True).mul(100).round(2))"
   ]
  },
  {
   "cell_type": "code",
   "execution_count": 135,
   "id": "3ff9f920-2a1d-4d5f-8e85-7568db29726f",
   "metadata": {},
   "outputs": [],
   "source": [
    "# Reagrupación para 2020 y 2021\n",
    "def agrupar_ocup2(code):\n",
    "    if code in [100, 110]:\n",
    "        return 'No_trabaja'\n",
    "    elif code in [997, 998, 999]:\n",
    "        return 'No_especificado' \n",
    "    else:\n",
    "        # Algún trabajo, con gran granularidad\n",
    "        return 'Trabaja'"
   ]
  },
  {
   "cell_type": "code",
   "execution_count": 136,
   "id": "2d1d4eae-ca8a-4483-9be1-ff235b3d13c8",
   "metadata": {},
   "outputs": [
    {
     "name": "stdout",
     "output_type": "stream",
     "text": [
      "\n",
      "Distribución 2022-2023:\n",
      "ocupacion_agrup\n",
      "Trabaja            48.41\n",
      "No_trabaja         28.63\n",
      "No_especificado    22.97\n",
      "Name: proportion, dtype: float64\n"
     ]
    }
   ],
   "source": [
    "# Reclasificación 2020 y 2021\n",
    "df_2022_2023['ocupacion_agrup'] = df_2022_2023['ocupacion'].apply(agrupar_ocup2)\n",
    "\n",
    "print(\"\\nDistribución 2022-2023:\")\n",
    "print(df_2022_2023['ocupacion_agrup'].value_counts(normalize=True).mul(100).round(2))"
   ]
  },
  {
   "cell_type": "code",
   "execution_count": 137,
   "id": "960aeca7-4c29-4811-bc4c-f18b2beddd13",
   "metadata": {},
   "outputs": [],
   "source": [
    "# Concatenación\n",
    "df_suicide_final = pd.concat([df_2020_2021, df_2022_2023])"
   ]
  },
  {
   "cell_type": "code",
   "execution_count": 138,
   "id": "e21ed881-f43d-4669-b6ba-7b5a1839b1c8",
   "metadata": {},
   "outputs": [
    {
     "name": "stdout",
     "output_type": "stream",
     "text": [
      "\n",
      "Distribución de la ocupación:\n",
      "   Estatus_Laboral  Conteo  Porcentaje\n",
      "0          Trabaja   16225        48.2\n",
      "1       No_trabaja    9783        29.1\n",
      "2  No_especificado    7634        22.7\n"
     ]
    }
   ],
   "source": [
    "# Distribución general\n",
    "conteo_ocupacion = df_suicide_final['ocupacion_agrup'].value_counts().reset_index()\n",
    "conteo_ocupacion.columns = ['Estatus_Laboral', 'Conteo']\n",
    "\n",
    "conteo_ocupacion['Porcentaje'] = (conteo_ocupacion['Conteo'] / total_casos * 100).round(1)\n",
    "\n",
    "print(\"\\nDistribución de la ocupación:\")\n",
    "print(conteo_ocupacion)"
   ]
  },
  {
   "cell_type": "code",
   "execution_count": 139,
   "id": "4d77aa36-4aa6-4be4-bd6c-c866a1742641",
   "metadata": {},
   "outputs": [
    {
     "data": {
      "image/png": "[encoded data removed]",
      "text/plain": [
       "<Figure size 1000x600 with 1 Axes>"
      ]
     },
     "metadata": {},
     "output_type": "display_data"
    }
   ],
   "source": [
    "# Visualización\n",
    "plt.figure(figsize=(10, 6))\n",
    "\n",
    "# Reordenamiento\n",
    "orden_barras = ['Trabaja', 'No_trabaja', 'No_especificado']\n",
    "conteo_ocupacion['Estatus_Laboral'] = pd.Categorical(conteo_ocupacion['Estatus_Laboral'], categories=orden_barras, ordered=True)\n",
    "conteo_ocupacion = conteo_ocupacion.sort_values('Estatus_Laboral') \n",
    "\n",
    "# Parela de colores\n",
    "paleta_personalizada = sn.color_palette(\"BuPu\", n_colors=3)\n",
    "\n",
    "ax = sn.barplot(\n",
    "    data=conteo_ocupacion, \n",
    "    x='Estatus_Laboral', \n",
    "    y='Conteo', \n",
    "    hue='Estatus_Laboral',\n",
    "    palette=paleta_personalizada,\n",
    "    legend=False\n",
    ")\n",
    "\n",
    "# Etiquetas\n",
    "for index, row in conteo_ocupacion.iterrows():\n",
    "    ax.text(\n",
    "        index, \n",
    "        row['Conteo'] * 1.02, \n",
    "        f\"{row['Porcentaje']}%\", \n",
    "        color='black', \n",
    "        ha=\"center\",       \n",
    "        fontsize=10,\n",
    "        weight='bold'\n",
    "    )\n",
    "\n",
    "# Personalización\n",
    "plt.title('Distribución de suicidios por estatus laboral', fontsize=14, weight='bold')\n",
    "plt.xlabel('Estatus laboral', fontsize=12)\n",
    "plt.ylabel('Número de casos', fontsize=12)\n",
    "plt.xticks(rotation=0, ha='center') \n",
    "plt.grid(axis='y', linestyle='--', alpha=0.4)\n",
    "plt.ylim(0, conteo_ocupacion['Conteo'].max() * 1.1) \n",
    "plt.tight_layout()\n",
    "plt.show()"
   ]
  },
  {
   "cell_type": "markdown",
   "id": "36ddb31a-ebc4-4d7e-a5c7-f7101d73725f",
   "metadata": {},
   "source": [
    "## 03.12. Revisiones varias"
   ]
  },
  {
   "cell_type": "code",
   "execution_count": 140,
   "id": "85675d63-7c05-4c08-89b5-a4585d0aca97",
   "metadata": {},
   "outputs": [
    {
     "data": {
      "text/plain": [
       "tipo_defun\n",
       "3    33642\n",
       "Name: count, dtype: int64"
      ]
     },
     "execution_count": 140,
     "metadata": {},
     "output_type": "execute_result"
    }
   ],
   "source": [
    "df_suicide['tipo_defun'].value_counts() # Obviamente todos son 3: Suicidio"
   ]
  },
  {
   "cell_type": "code",
   "execution_count": 141,
   "id": "2646cb92-1b7e-446b-bbc2-245e439ec248",
   "metadata": {},
   "outputs": [
    {
     "data": {
      "text/plain": [
       "necropsia\n",
       "1    0.915730\n",
       "9    0.059331\n",
       "2    0.024939\n",
       "Name: proportion, dtype: float64"
      ]
     },
     "execution_count": 141,
     "metadata": {},
     "output_type": "execute_result"
    }
   ],
   "source": [
    "df_suicide['necropsia'].value_counts(1) # Dado que el 90% de la variable es 1:Sí y el 6% no está especificado, la variable deja de aportar valor"
   ]
  },
  {
   "cell_type": "code",
   "execution_count": 142,
   "id": "3df3c85d-8797-4af7-91b8-f67791648ade",
   "metadata": {},
   "outputs": [
    {
     "data": {
      "text/plain": [
       "cond_act\n",
       "1    0.666340\n",
       "2    0.290619\n",
       "9    0.043041\n",
       "Name: proportion, dtype: float64"
      ]
     },
     "execution_count": 142,
     "metadata": {},
     "output_type": "execute_result"
    }
   ],
   "source": [
    "df_suicide['cond_act'].value_counts(1) # Mantendremos así la variable para evitar generar comportamientos artificiales"
   ]
  },
  {
   "cell_type": "code",
   "execution_count": 143,
   "id": "13532928-1948-4379-8a98-576101fd6f1e",
   "metadata": {},
   "outputs": [
    {
     "data": {
      "text/plain": [
       "asist_medi\n",
       "2    0.742703\n",
       "9    0.181202\n",
       "1    0.076095\n",
       "Name: proportion, dtype: float64"
      ]
     },
     "execution_count": 143,
     "metadata": {},
     "output_type": "execute_result"
    }
   ],
   "source": [
    "df_suicide['asist_medi'].value_counts(1) # Mantendremos así la variable para evitar generar comportamientos artificiales"
   ]
  },
  {
   "cell_type": "code",
   "execution_count": 144,
   "id": "210fc230-3da0-4786-a661-c140cfda9896",
   "metadata": {},
   "outputs": [
    {
     "data": {
      "text/plain": [
       "cond_cert\n",
       "2    0.964449\n",
       "3    0.013763\n",
       "9    0.011652\n",
       "1    0.005826\n",
       "4    0.001813\n",
       "5    0.001338\n",
       "8    0.001159\n",
       "Name: proportion, dtype: float64"
      ]
     },
     "execution_count": 144,
     "metadata": {},
     "output_type": "execute_result"
    }
   ],
   "source": [
    "df_suicide['cond_cert'].value_counts(1) # Dado que el 96% de la variable es 2:médico legista, la variable deja de aportar valor"
   ]
  },
  {
   "cell_type": "code",
   "execution_count": 145,
   "id": "a628db36-546e-46c8-9622-469d0876c276",
   "metadata": {},
   "outputs": [
    {
     "data": {
      "text/plain": [
       "grupo\n",
       "26    0.999911\n",
       "34    0.000089\n",
       "Name: proportion, dtype: float64"
      ]
     },
     "execution_count": 145,
     "metadata": {},
     "output_type": "execute_result"
    }
   ],
   "source": [
    "df_suicide['grupo'].value_counts(1) # Por supuesto casi todos los casos son del grupo 26 que en este caso refiere a lesiones autoinfligidas "
   ]
  },
  {
   "cell_type": "markdown",
   "id": "866713e0-dbdf-48ce-b3b5-a4d5187e18c4",
   "metadata": {},
   "source": [
    "# 04. Salida"
   ]
  },
  {
   "cell_type": "code",
   "execution_count": 146,
   "id": "d253d18b-e045-4856-9fd4-96907a715223",
   "metadata": {},
   "outputs": [
    {
     "data": {
      "text/plain": [
       "Index(['ent_resid', 'mun_resid', 'tloc_resid', 'loc_resid', 'ent_ocurr',\n",
       "       'mun_ocurr', 'tloc_ocurr', 'loc_ocurr', 'causa_def', 'sexo', 'edad',\n",
       "       'dia_ocurr', 'mes_ocurr', 'anio_ocur', 'dia_nacim', 'mes_nacim',\n",
       "       'anio_nacim', 'ocupacion', 'escolarida', 'edo_civil', 'lugar_ocur',\n",
       "       'necropsia', 'asist_medi', 'sitio_ocur', 'cond_cert', 'derechohab',\n",
       "       'horas', 'minutos', 'grupo', 'area_ur', 'edad_agru', 'cond_act',\n",
       "       'tipo_defun', 'year_db', 'age', 'fecha_nacim', 'fecha_ocurr',\n",
       "       'age_manual', 'age_final', 'derechohab_agrup', 'causa_def_reduc',\n",
       "       'metodo_suicidio', 'area_urbana', 'lugar_ocurrencia',\n",
       "       'sitio_ocurrencia', 'escolaridad_agrup', 'hora_decimal',\n",
       "       'ciclo_horario', 'ocupacion_agrup'],\n",
       "      dtype='object')"
      ]
     },
     "execution_count": 146,
     "metadata": {},
     "output_type": "execute_result"
    }
   ],
   "source": [
    "df_suicide_final.columns"
   ]
  },
  {
   "cell_type": "code",
   "execution_count": 147,
   "id": "c8a8d2ee-fbae-4a01-8605-02499beca131",
   "metadata": {},
   "outputs": [
    {
     "data": {
      "text/plain": [
       "(33642, 49)"
      ]
     },
     "execution_count": 147,
     "metadata": {},
     "output_type": "execute_result"
    }
   ],
   "source": [
    "df_suicide_final.shape"
   ]
  },
  {
   "cell_type": "code",
   "execution_count": 148,
   "id": "49fd920b-1c02-4fb4-91cf-75ff552356ff",
   "metadata": {},
   "outputs": [],
   "source": [
    "# Selección de columnas finales\n",
    "final_columns = [\n",
    "    'year_db',\n",
    "    'ent_ocurr',          \n",
    "    'mun_ocurr',\n",
    "    'ent_resid',\n",
    "    'mun_resid',\n",
    "    'age_final',             \n",
    "    'sexo',                  \n",
    "    'edo_civil',\n",
    "    'escolaridad_agrup',\n",
    "    'cond_act',  \n",
    "    'ocupacion_agrup', \n",
    "    'asist_medi',\n",
    "    'derechohab_agrup',     \n",
    "    'area_urbana',       \n",
    "    'metodo_suicidio',   \n",
    "    'lugar_ocurrencia',    \n",
    "    'sitio_ocurrencia',\n",
    "    'ciclo_horario',\n",
    "    'mes_ocurr'\n",
    "]"
   ]
  },
  {
   "cell_type": "code",
   "execution_count": 149,
   "id": "c79da58b-0050-428c-8a6d-45f069b62e7f",
   "metadata": {},
   "outputs": [],
   "source": [
    "# DF para modelado\n",
    "df_clustering = df_suicide_final[final_columns].copy()\n",
    "\n",
    "# Salida\n",
    "file_name_final = 'datos_clustering.parquet'\n",
    "output_path = os.path.join(base_path, 'data_procesada')\n",
    "parquet_file = os.path.join(output_path, file_name_final)\n",
    "df_clustering.to_parquet(parquet_file, index=False)"
   ]
  },
  {
   "cell_type": "code",
   "execution_count": 150,
   "id": "26d3a707-e508-417f-9568-52e0e5a2dacf",
   "metadata": {},
   "outputs": [
    {
     "data": {
      "text/plain": [
       "Index(['year_db', 'ent_ocurr', 'mun_ocurr', 'ent_resid', 'mun_resid',\n",
       "       'age_final', 'sexo', 'edo_civil', 'escolaridad_agrup', 'cond_act',\n",
       "       'ocupacion_agrup', 'asist_medi', 'derechohab_agrup', 'area_urbana',\n",
       "       'metodo_suicidio', 'lugar_ocurrencia', 'sitio_ocurrencia',\n",
       "       'ciclo_horario', 'mes_ocurr'],\n",
       "      dtype='object')"
      ]
     },
     "execution_count": 150,
     "metadata": {},
     "output_type": "execute_result"
    }
   ],
   "source": [
    "df_clustering.columns"
   ]
  }
 ],
 "metadata": {
  "kernelspec": {
   "display_name": "Python 3 (ipykernel)",
   "language": "python",
   "name": "python3"
  },
  "language_info": {
   "codemirror_mode": {
    "name": "ipython",
    "version": 3
   },
   "file_extension": ".py",
   "mimetype": "text/x-python",
   "name": "python",
   "nbconvert_exporter": "python",
   "pygments_lexer": "ipython3",
   "version": "3.10.18"
  }
 },
 "nbformat": 4,
 "nbformat_minor": 5
}
